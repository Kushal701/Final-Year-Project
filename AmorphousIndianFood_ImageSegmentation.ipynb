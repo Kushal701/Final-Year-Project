{
  "nbformat": 4,
  "nbformat_minor": 0,
  "metadata": {
    "colab": {
      "provenance": [],
      "collapsed_sections": []
    },
    "kernelspec": {
      "name": "python3",
      "display_name": "Python 3"
    },
    "language_info": {
      "name": "python"
    },
    "gpuClass": "standard"
  },
  "cells": [
    {
      "cell_type": "code",
      "source": [
        "from google.colab import drive\n",
        "drive.mount('/content/drive')"
      ],
      "metadata": {
        "colab": {
          "base_uri": "https://localhost:8080/"
        },
        "id": "KEi4C-tJ2nr4",
        "outputId": "332efc17-c141-4151-c567-23d3a4306839"
      },
      "execution_count": null,
      "outputs": [
        {
          "output_type": "stream",
          "name": "stdout",
          "text": [
            "Drive already mounted at /content/drive; to attempt to forcibly remount, call drive.mount(\"/content/drive\", force_remount=True).\n"
          ]
        }
      ]
    },
    {
      "cell_type": "code",
      "source": [
        "# Install the python version\n",
        "#!apt-get install python3.5\n",
        "\n",
        "# Select the version\n",
        "!python3 --version"
      ],
      "metadata": {
        "colab": {
          "base_uri": "https://localhost:8080/"
        },
        "id": "8S4iioZm3cdc",
        "outputId": "23c0efda-9b5c-4c3e-ea8e-cae3a980b161"
      },
      "execution_count": null,
      "outputs": [
        {
          "output_type": "stream",
          "name": "stdout",
          "text": [
            "Python 3.7.14\n"
          ]
        }
      ]
    },
    {
      "cell_type": "code",
      "source": [
        "cd /content/drive/MyDrive/FoodDataSetPolygon"
      ],
      "metadata": {
        "colab": {
          "base_uri": "https://localhost:8080/"
        },
        "id": "XM-H8Ns82-Xq",
        "outputId": "24fe140d-4385-4ca9-8197-be6b414fcd9d"
      },
      "execution_count": null,
      "outputs": [
        {
          "output_type": "stream",
          "name": "stdout",
          "text": [
            "/content/drive/MyDrive/FoodDataSetPolygon\n"
          ]
        }
      ]
    },
    {
      "cell_type": "code",
      "source": [
        "\n",
        "#!pip3 install tensorflow==2.4.1\n",
        "!pip3 install tensorflow--gpu\n",
        "!pip3 install imgaug\n",
        "!pip install pixellib==0.5.2\n",
        "!pip install labelme2coco==0.1.2"
      ],
      "metadata": {
        "colab": {
          "base_uri": "https://localhost:8080/",
          "height": 1000
        },
        "id": "YnLhHipQ2Q66",
        "outputId": "dc172cda-1dcf-4e0d-809d-5e7c8dcfcbd3"
      },
      "execution_count": null,
      "outputs": [
        {
          "output_type": "stream",
          "name": "stdout",
          "text": [
            "Looking in indexes: https://pypi.org/simple, https://us-python.pkg.dev/colab-wheels/public/simple/\n",
            "Collecting tensorflow--gpu\n",
            "  Downloading tensorflow_gpu-2.10.0-cp37-cp37m-manylinux_2_17_x86_64.manylinux2014_x86_64.whl (578.0 MB)\n",
            "\u001b[K     |████████████████████████████████| 578.0 MB 17 kB/s \n",
            "\u001b[?25hRequirement already satisfied: keras-preprocessing>=1.1.1 in /usr/local/lib/python3.7/dist-packages (from tensorflow--gpu) (1.1.2)\n",
            "Requirement already satisfied: protobuf<3.20,>=3.9.2 in /usr/local/lib/python3.7/dist-packages (from tensorflow--gpu) (3.17.3)\n",
            "Requirement already satisfied: tensorflow-io-gcs-filesystem>=0.23.1 in /usr/local/lib/python3.7/dist-packages (from tensorflow--gpu) (0.26.0)\n",
            "Requirement already satisfied: termcolor>=1.1.0 in /usr/local/lib/python3.7/dist-packages (from tensorflow--gpu) (1.1.0)\n",
            "Requirement already satisfied: setuptools in /usr/local/lib/python3.7/dist-packages (from tensorflow--gpu) (57.4.0)\n",
            "Requirement already satisfied: opt-einsum>=2.3.2 in /usr/local/lib/python3.7/dist-packages (from tensorflow--gpu) (3.3.0)\n",
            "Requirement already satisfied: grpcio<2.0,>=1.24.3 in /usr/local/lib/python3.7/dist-packages (from tensorflow--gpu) (1.48.1)\n",
            "Requirement already satisfied: wrapt>=1.11.0 in /usr/local/lib/python3.7/dist-packages (from tensorflow--gpu) (1.14.1)\n",
            "Requirement already satisfied: google-pasta>=0.1.1 in /usr/local/lib/python3.7/dist-packages (from tensorflow--gpu) (0.2.0)\n",
            "Requirement already satisfied: six>=1.12.0 in /usr/local/lib/python3.7/dist-packages (from tensorflow--gpu) (1.15.0)\n",
            "Requirement already satisfied: flatbuffers>=2.0 in /usr/local/lib/python3.7/dist-packages (from tensorflow--gpu) (2.0.7)\n",
            "Requirement already satisfied: packaging in /usr/local/lib/python3.7/dist-packages (from tensorflow--gpu) (21.3)\n",
            "Collecting tensorflow-estimator<2.11,>=2.10.0\n",
            "  Downloading tensorflow_estimator-2.10.0-py2.py3-none-any.whl (438 kB)\n",
            "\u001b[K     |████████████████████████████████| 438 kB 60.9 MB/s \n",
            "\u001b[?25hRequirement already satisfied: libclang>=13.0.0 in /usr/local/lib/python3.7/dist-packages (from tensorflow--gpu) (14.0.6)\n",
            "Collecting gast<=0.4.0,>=0.2.1\n",
            "  Downloading gast-0.4.0-py3-none-any.whl (9.8 kB)\n",
            "Requirement already satisfied: astunparse>=1.6.0 in /usr/local/lib/python3.7/dist-packages (from tensorflow--gpu) (1.6.3)\n",
            "Collecting keras<2.11,>=2.10.0\n",
            "  Downloading keras-2.10.0-py2.py3-none-any.whl (1.7 MB)\n",
            "\u001b[K     |████████████████████████████████| 1.7 MB 44.4 MB/s \n",
            "\u001b[?25hCollecting tensorboard<2.11,>=2.10\n",
            "  Downloading tensorboard-2.10.1-py3-none-any.whl (5.9 MB)\n",
            "\u001b[K     |████████████████████████████████| 5.9 MB 60.1 MB/s \n",
            "\u001b[?25hRequirement already satisfied: absl-py>=1.0.0 in /usr/local/lib/python3.7/dist-packages (from tensorflow--gpu) (1.2.0)\n",
            "Requirement already satisfied: h5py>=2.9.0 in /usr/local/lib/python3.7/dist-packages (from tensorflow--gpu) (3.1.0)\n",
            "Requirement already satisfied: numpy>=1.20 in /usr/local/lib/python3.7/dist-packages (from tensorflow--gpu) (1.21.6)\n",
            "Requirement already satisfied: typing-extensions>=3.6.6 in /usr/local/lib/python3.7/dist-packages (from tensorflow--gpu) (4.1.1)\n",
            "Requirement already satisfied: wheel<1.0,>=0.23.0 in /usr/local/lib/python3.7/dist-packages (from astunparse>=1.6.0->tensorflow--gpu) (0.37.1)\n",
            "Requirement already satisfied: cached-property in /usr/local/lib/python3.7/dist-packages (from h5py>=2.9.0->tensorflow--gpu) (1.5.2)\n",
            "Requirement already satisfied: tensorboard-plugin-wit>=1.6.0 in /usr/local/lib/python3.7/dist-packages (from tensorboard<2.11,>=2.10->tensorflow--gpu) (1.8.1)\n",
            "Requirement already satisfied: tensorboard-data-server<0.7.0,>=0.6.0 in /usr/local/lib/python3.7/dist-packages (from tensorboard<2.11,>=2.10->tensorflow--gpu) (0.6.1)\n",
            "Requirement already satisfied: markdown>=2.6.8 in /usr/local/lib/python3.7/dist-packages (from tensorboard<2.11,>=2.10->tensorflow--gpu) (3.4.1)\n",
            "Requirement already satisfied: requests<3,>=2.21.0 in /usr/local/lib/python3.7/dist-packages (from tensorboard<2.11,>=2.10->tensorflow--gpu) (2.23.0)\n",
            "Requirement already satisfied: google-auth<3,>=1.6.3 in /usr/local/lib/python3.7/dist-packages (from tensorboard<2.11,>=2.10->tensorflow--gpu) (1.35.0)\n",
            "Requirement already satisfied: werkzeug>=1.0.1 in /usr/local/lib/python3.7/dist-packages (from tensorboard<2.11,>=2.10->tensorflow--gpu) (1.0.1)\n",
            "Requirement already satisfied: google-auth-oauthlib<0.5,>=0.4.1 in /usr/local/lib/python3.7/dist-packages (from tensorboard<2.11,>=2.10->tensorflow--gpu) (0.4.6)\n",
            "Requirement already satisfied: rsa<5,>=3.1.4 in /usr/local/lib/python3.7/dist-packages (from google-auth<3,>=1.6.3->tensorboard<2.11,>=2.10->tensorflow--gpu) (4.9)\n",
            "Requirement already satisfied: cachetools<5.0,>=2.0.0 in /usr/local/lib/python3.7/dist-packages (from google-auth<3,>=1.6.3->tensorboard<2.11,>=2.10->tensorflow--gpu) (4.2.4)\n",
            "Requirement already satisfied: pyasn1-modules>=0.2.1 in /usr/local/lib/python3.7/dist-packages (from google-auth<3,>=1.6.3->tensorboard<2.11,>=2.10->tensorflow--gpu) (0.2.8)\n",
            "Requirement already satisfied: requests-oauthlib>=0.7.0 in /usr/local/lib/python3.7/dist-packages (from google-auth-oauthlib<0.5,>=0.4.1->tensorboard<2.11,>=2.10->tensorflow--gpu) (1.3.1)\n",
            "Requirement already satisfied: importlib-metadata>=4.4 in /usr/local/lib/python3.7/dist-packages (from markdown>=2.6.8->tensorboard<2.11,>=2.10->tensorflow--gpu) (4.12.0)\n",
            "Requirement already satisfied: zipp>=0.5 in /usr/local/lib/python3.7/dist-packages (from importlib-metadata>=4.4->markdown>=2.6.8->tensorboard<2.11,>=2.10->tensorflow--gpu) (3.8.1)\n",
            "Requirement already satisfied: pyasn1<0.5.0,>=0.4.6 in /usr/local/lib/python3.7/dist-packages (from pyasn1-modules>=0.2.1->google-auth<3,>=1.6.3->tensorboard<2.11,>=2.10->tensorflow--gpu) (0.4.8)\n",
            "Requirement already satisfied: urllib3!=1.25.0,!=1.25.1,<1.26,>=1.21.1 in /usr/local/lib/python3.7/dist-packages (from requests<3,>=2.21.0->tensorboard<2.11,>=2.10->tensorflow--gpu) (1.24.3)\n",
            "Requirement already satisfied: idna<3,>=2.5 in /usr/local/lib/python3.7/dist-packages (from requests<3,>=2.21.0->tensorboard<2.11,>=2.10->tensorflow--gpu) (2.10)\n",
            "Requirement already satisfied: certifi>=2017.4.17 in /usr/local/lib/python3.7/dist-packages (from requests<3,>=2.21.0->tensorboard<2.11,>=2.10->tensorflow--gpu) (2022.6.15)\n",
            "Requirement already satisfied: chardet<4,>=3.0.2 in /usr/local/lib/python3.7/dist-packages (from requests<3,>=2.21.0->tensorboard<2.11,>=2.10->tensorflow--gpu) (3.0.4)\n",
            "Requirement already satisfied: oauthlib>=3.0.0 in /usr/local/lib/python3.7/dist-packages (from requests-oauthlib>=0.7.0->google-auth-oauthlib<0.5,>=0.4.1->tensorboard<2.11,>=2.10->tensorflow--gpu) (3.2.0)\n",
            "Requirement already satisfied: pyparsing!=3.0.5,>=2.0.2 in /usr/local/lib/python3.7/dist-packages (from packaging->tensorflow--gpu) (3.0.9)\n",
            "Installing collected packages: tensorflow-estimator, tensorboard, keras, gast, tensorflow-gpu\n",
            "  Attempting uninstall: tensorflow-estimator\n",
            "    Found existing installation: tensorflow-estimator 2.8.0\n",
            "    Uninstalling tensorflow-estimator-2.8.0:\n",
            "      Successfully uninstalled tensorflow-estimator-2.8.0\n",
            "  Attempting uninstall: tensorboard\n",
            "    Found existing installation: tensorboard 2.8.0\n",
            "    Uninstalling tensorboard-2.8.0:\n",
            "      Successfully uninstalled tensorboard-2.8.0\n",
            "  Attempting uninstall: keras\n",
            "    Found existing installation: keras 2.8.0\n",
            "    Uninstalling keras-2.8.0:\n",
            "      Successfully uninstalled keras-2.8.0\n",
            "  Attempting uninstall: gast\n",
            "    Found existing installation: gast 0.5.3\n",
            "    Uninstalling gast-0.5.3:\n",
            "      Successfully uninstalled gast-0.5.3\n",
            "\u001b[31mERROR: pip's dependency resolver does not currently take into account all the packages that are installed. This behaviour is the source of the following dependency conflicts.\n",
            "tensorflow 2.8.2+zzzcolab20220719082949 requires keras<2.9,>=2.8.0rc0, but you have keras 2.10.0 which is incompatible.\n",
            "tensorflow 2.8.2+zzzcolab20220719082949 requires tensorboard<2.9,>=2.8, but you have tensorboard 2.10.1 which is incompatible.\n",
            "tensorflow 2.8.2+zzzcolab20220719082949 requires tensorflow-estimator<2.9,>=2.8, but you have tensorflow-estimator 2.10.0 which is incompatible.\u001b[0m\n",
            "Successfully installed gast-0.4.0 keras-2.10.0 tensorboard-2.10.1 tensorflow-estimator-2.10.0 tensorflow-gpu-2.10.0\n",
            "Looking in indexes: https://pypi.org/simple, https://us-python.pkg.dev/colab-wheels/public/simple/\n",
            "Requirement already satisfied: imgaug in /usr/local/lib/python3.7/dist-packages (0.4.0)\n",
            "Requirement already satisfied: matplotlib in /usr/local/lib/python3.7/dist-packages (from imgaug) (3.2.2)\n",
            "Requirement already satisfied: Shapely in /usr/local/lib/python3.7/dist-packages (from imgaug) (1.8.4)\n",
            "Requirement already satisfied: numpy>=1.15 in /usr/local/lib/python3.7/dist-packages (from imgaug) (1.21.6)\n",
            "Requirement already satisfied: opencv-python in /usr/local/lib/python3.7/dist-packages (from imgaug) (4.6.0.66)\n",
            "Requirement already satisfied: scipy in /usr/local/lib/python3.7/dist-packages (from imgaug) (1.7.3)\n",
            "Requirement already satisfied: Pillow in /usr/local/lib/python3.7/dist-packages (from imgaug) (7.1.2)\n",
            "Requirement already satisfied: six in /usr/local/lib/python3.7/dist-packages (from imgaug) (1.15.0)\n",
            "Requirement already satisfied: scikit-image>=0.14.2 in /usr/local/lib/python3.7/dist-packages (from imgaug) (0.18.3)\n",
            "Requirement already satisfied: imageio in /usr/local/lib/python3.7/dist-packages (from imgaug) (2.9.0)\n",
            "Requirement already satisfied: PyWavelets>=1.1.1 in /usr/local/lib/python3.7/dist-packages (from scikit-image>=0.14.2->imgaug) (1.3.0)\n",
            "Requirement already satisfied: tifffile>=2019.7.26 in /usr/local/lib/python3.7/dist-packages (from scikit-image>=0.14.2->imgaug) (2021.11.2)\n",
            "Requirement already satisfied: networkx>=2.0 in /usr/local/lib/python3.7/dist-packages (from scikit-image>=0.14.2->imgaug) (2.6.3)\n",
            "Requirement already satisfied: kiwisolver>=1.0.1 in /usr/local/lib/python3.7/dist-packages (from matplotlib->imgaug) (1.4.4)\n",
            "Requirement already satisfied: python-dateutil>=2.1 in /usr/local/lib/python3.7/dist-packages (from matplotlib->imgaug) (2.8.2)\n",
            "Requirement already satisfied: cycler>=0.10 in /usr/local/lib/python3.7/dist-packages (from matplotlib->imgaug) (0.11.0)\n",
            "Requirement already satisfied: pyparsing!=2.0.4,!=2.1.2,!=2.1.6,>=2.0.1 in /usr/local/lib/python3.7/dist-packages (from matplotlib->imgaug) (3.0.9)\n",
            "Requirement already satisfied: typing-extensions in /usr/local/lib/python3.7/dist-packages (from kiwisolver>=1.0.1->matplotlib->imgaug) (4.1.1)\n",
            "Looking in indexes: https://pypi.org/simple, https://us-python.pkg.dev/colab-wheels/public/simple/\n",
            "Collecting pixellib==0.5.2\n",
            "  Downloading pixellib-0.5.2-py3-none-any.whl (66 kB)\n",
            "\u001b[K     |████████████████████████████████| 66 kB 1.3 MB/s \n",
            "\u001b[?25hRequirement already satisfied: opencv-python in /usr/local/lib/python3.7/dist-packages (from pixellib==0.5.2) (4.6.0.66)\n",
            "Collecting labelme2coco\n",
            "  Downloading labelme2coco-0.2.1-py3-none-any.whl (18 kB)\n",
            "Requirement already satisfied: scikit-image in /usr/local/lib/python3.7/dist-packages (from pixellib==0.5.2) (0.18.3)\n",
            "Requirement already satisfied: pillow in /usr/local/lib/python3.7/dist-packages (from pixellib==0.5.2) (7.1.2)\n",
            "Collecting imantics\n",
            "  Downloading imantics-0.1.12.tar.gz (13 kB)\n",
            "Requirement already satisfied: imgaug in /usr/local/lib/python3.7/dist-packages (from pixellib==0.5.2) (0.4.0)\n",
            "Requirement already satisfied: matplotlib in /usr/local/lib/python3.7/dist-packages (from pixellib==0.5.2) (3.2.2)\n",
            "Requirement already satisfied: numpy in /usr/local/lib/python3.7/dist-packages (from imantics->pixellib==0.5.2) (1.21.6)\n",
            "Requirement already satisfied: lxml in /usr/local/lib/python3.7/dist-packages (from imantics->pixellib==0.5.2) (4.9.1)\n",
            "Collecting xmljson\n",
            "  Downloading xmljson-0.2.1-py2.py3-none-any.whl (10 kB)\n",
            "Requirement already satisfied: scipy in /usr/local/lib/python3.7/dist-packages (from imgaug->pixellib==0.5.2) (1.7.3)\n",
            "Requirement already satisfied: imageio in /usr/local/lib/python3.7/dist-packages (from imgaug->pixellib==0.5.2) (2.9.0)\n",
            "Requirement already satisfied: six in /usr/local/lib/python3.7/dist-packages (from imgaug->pixellib==0.5.2) (1.15.0)\n",
            "Requirement already satisfied: Shapely in /usr/local/lib/python3.7/dist-packages (from imgaug->pixellib==0.5.2) (1.8.4)\n",
            "Requirement already satisfied: tifffile>=2019.7.26 in /usr/local/lib/python3.7/dist-packages (from scikit-image->pixellib==0.5.2) (2021.11.2)\n",
            "Requirement already satisfied: networkx>=2.0 in /usr/local/lib/python3.7/dist-packages (from scikit-image->pixellib==0.5.2) (2.6.3)\n",
            "Requirement already satisfied: PyWavelets>=1.1.1 in /usr/local/lib/python3.7/dist-packages (from scikit-image->pixellib==0.5.2) (1.3.0)\n",
            "Requirement already satisfied: pyparsing!=2.0.4,!=2.1.2,!=2.1.6,>=2.0.1 in /usr/local/lib/python3.7/dist-packages (from matplotlib->pixellib==0.5.2) (3.0.9)\n",
            "Requirement already satisfied: kiwisolver>=1.0.1 in /usr/local/lib/python3.7/dist-packages (from matplotlib->pixellib==0.5.2) (1.4.4)\n",
            "Requirement already satisfied: python-dateutil>=2.1 in /usr/local/lib/python3.7/dist-packages (from matplotlib->pixellib==0.5.2) (2.8.2)\n",
            "Requirement already satisfied: cycler>=0.10 in /usr/local/lib/python3.7/dist-packages (from matplotlib->pixellib==0.5.2) (0.11.0)\n",
            "Requirement already satisfied: typing-extensions in /usr/local/lib/python3.7/dist-packages (from kiwisolver>=1.0.1->matplotlib->pixellib==0.5.2) (4.1.1)\n",
            "Collecting sahi>=0.8.19\n",
            "  Downloading sahi-0.10.7-py3-none-any.whl (97 kB)\n",
            "\u001b[K     |████████████████████████████████| 97 kB 7.2 MB/s \n",
            "\u001b[?25hRequirement already satisfied: jsonschema>=2.6.0 in /usr/local/lib/python3.7/dist-packages (from labelme2coco->pixellib==0.5.2) (4.3.3)\n",
            "Requirement already satisfied: pyrsistent!=0.17.0,!=0.17.1,!=0.17.2,>=0.14.0 in /usr/local/lib/python3.7/dist-packages (from jsonschema>=2.6.0->labelme2coco->pixellib==0.5.2) (0.18.1)\n",
            "Requirement already satisfied: attrs>=17.4.0 in /usr/local/lib/python3.7/dist-packages (from jsonschema>=2.6.0->labelme2coco->pixellib==0.5.2) (22.1.0)\n",
            "Requirement already satisfied: importlib-resources>=1.4.0 in /usr/local/lib/python3.7/dist-packages (from jsonschema>=2.6.0->labelme2coco->pixellib==0.5.2) (5.9.0)\n",
            "Requirement already satisfied: importlib-metadata in /usr/local/lib/python3.7/dist-packages (from jsonschema>=2.6.0->labelme2coco->pixellib==0.5.2) (4.12.0)\n",
            "Requirement already satisfied: zipp>=3.1.0 in /usr/local/lib/python3.7/dist-packages (from importlib-resources>=1.4.0->jsonschema>=2.6.0->labelme2coco->pixellib==0.5.2) (3.8.1)\n",
            "Collecting terminaltables\n",
            "  Downloading terminaltables-3.1.10-py2.py3-none-any.whl (15 kB)\n",
            "Requirement already satisfied: pyyaml in /usr/local/lib/python3.7/dist-packages (from sahi>=0.8.19->labelme2coco->pixellib==0.5.2) (6.0)\n",
            "Collecting fire\n",
            "  Downloading fire-0.4.0.tar.gz (87 kB)\n",
            "\u001b[K     |████████████████████████████████| 87 kB 5.8 MB/s \n",
            "\u001b[?25hCollecting pybboxes==0.1.5\n",
            "  Downloading pybboxes-0.1.5-py3-none-any.whl (24 kB)\n",
            "Requirement already satisfied: requests in /usr/local/lib/python3.7/dist-packages (from sahi>=0.8.19->labelme2coco->pixellib==0.5.2) (2.23.0)\n",
            "Collecting pillow\n",
            "  Downloading Pillow-9.2.0-cp37-cp37m-manylinux_2_17_x86_64.manylinux2014_x86_64.whl (3.1 MB)\n",
            "\u001b[K     |████████████████████████████████| 3.1 MB 69.6 MB/s \n",
            "\u001b[?25hCollecting click==8.0.4\n",
            "  Downloading click-8.0.4-py3-none-any.whl (97 kB)\n",
            "\u001b[K     |████████████████████████████████| 97 kB 7.9 MB/s \n",
            "\u001b[?25hRequirement already satisfied: tqdm>=4.48.2 in /usr/local/lib/python3.7/dist-packages (from sahi>=0.8.19->labelme2coco->pixellib==0.5.2) (4.64.1)\n",
            "Requirement already satisfied: termcolor in /usr/local/lib/python3.7/dist-packages (from fire->sahi>=0.8.19->labelme2coco->pixellib==0.5.2) (1.1.0)\n",
            "Requirement already satisfied: idna<3,>=2.5 in /usr/local/lib/python3.7/dist-packages (from requests->sahi>=0.8.19->labelme2coco->pixellib==0.5.2) (2.10)\n",
            "Requirement already satisfied: chardet<4,>=3.0.2 in /usr/local/lib/python3.7/dist-packages (from requests->sahi>=0.8.19->labelme2coco->pixellib==0.5.2) (3.0.4)\n",
            "Requirement already satisfied: certifi>=2017.4.17 in /usr/local/lib/python3.7/dist-packages (from requests->sahi>=0.8.19->labelme2coco->pixellib==0.5.2) (2022.6.15)\n",
            "Requirement already satisfied: urllib3!=1.25.0,!=1.25.1,<1.26,>=1.21.1 in /usr/local/lib/python3.7/dist-packages (from requests->sahi>=0.8.19->labelme2coco->pixellib==0.5.2) (1.24.3)\n",
            "Building wheels for collected packages: imantics, fire\n",
            "  Building wheel for imantics (setup.py) ... \u001b[?25l\u001b[?25hdone\n",
            "  Created wheel for imantics: filename=imantics-0.1.12-py3-none-any.whl size=16033 sha256=2828565d1ed77cb53b3b87e1379dcd2ec1d20bbca4f5706f4122c692ea4624a9\n",
            "  Stored in directory: /root/.cache/pip/wheels/da/7c/3e/296fe3ed4eb3bd713e91dee0d0549f12f316d49939a64bdc96\n",
            "  Building wheel for fire (setup.py) ... \u001b[?25l\u001b[?25hdone\n",
            "  Created wheel for fire: filename=fire-0.4.0-py2.py3-none-any.whl size=115942 sha256=8cc7fca177790df1c84e22e896595d97310e9fcbfdbbcf4b4a1f71fbfcd75eff\n",
            "  Stored in directory: /root/.cache/pip/wheels/8a/67/fb/2e8a12fa16661b9d5af1f654bd199366799740a85c64981226\n",
            "Successfully built imantics fire\n",
            "Installing collected packages: pillow, terminaltables, pybboxes, fire, click, xmljson, sahi, labelme2coco, imantics, pixellib\n",
            "  Attempting uninstall: pillow\n",
            "    Found existing installation: Pillow 7.1.2\n",
            "    Uninstalling Pillow-7.1.2:\n",
            "      Successfully uninstalled Pillow-7.1.2\n",
            "  Attempting uninstall: click\n",
            "    Found existing installation: click 7.1.2\n",
            "    Uninstalling click-7.1.2:\n",
            "      Successfully uninstalled click-7.1.2\n",
            "\u001b[31mERROR: pip's dependency resolver does not currently take into account all the packages that are installed. This behaviour is the source of the following dependency conflicts.\n",
            "flask 1.1.4 requires click<8.0,>=5.1, but you have click 8.0.4 which is incompatible.\u001b[0m\n",
            "Successfully installed click-8.0.4 fire-0.4.0 imantics-0.1.12 labelme2coco-0.2.1 pillow-9.2.0 pixellib-0.5.2 pybboxes-0.1.5 sahi-0.10.7 terminaltables-3.1.10 xmljson-0.2.1\n"
          ]
        },
        {
          "output_type": "display_data",
          "data": {
            "application/vnd.colab-display-data+json": {
              "pip_warning": {
                "packages": [
                  "PIL"
                ]
              }
            }
          },
          "metadata": {}
        },
        {
          "output_type": "stream",
          "name": "stdout",
          "text": [
            "Looking in indexes: https://pypi.org/simple, https://us-python.pkg.dev/colab-wheels/public/simple/\n",
            "Collecting labelme2coco==0.1.2\n",
            "  Downloading labelme2coco-0.1.2-py3-none-any.whl (19 kB)\n",
            "Requirement already satisfied: pillow>=4.3.0 in /usr/local/lib/python3.7/dist-packages (from labelme2coco==0.1.2) (9.2.0)\n",
            "Requirement already satisfied: jsonschema>=2.6.0 in /usr/local/lib/python3.7/dist-packages (from labelme2coco==0.1.2) (4.3.3)\n",
            "Requirement already satisfied: numpy>=1.15.1 in /usr/local/lib/python3.7/dist-packages (from labelme2coco==0.1.2) (1.21.6)\n",
            "Requirement already satisfied: attrs>=17.4.0 in /usr/local/lib/python3.7/dist-packages (from jsonschema>=2.6.0->labelme2coco==0.1.2) (22.1.0)\n",
            "Requirement already satisfied: importlib-resources>=1.4.0 in /usr/local/lib/python3.7/dist-packages (from jsonschema>=2.6.0->labelme2coco==0.1.2) (5.9.0)\n",
            "Requirement already satisfied: typing-extensions in /usr/local/lib/python3.7/dist-packages (from jsonschema>=2.6.0->labelme2coco==0.1.2) (4.1.1)\n",
            "Requirement already satisfied: pyrsistent!=0.17.0,!=0.17.1,!=0.17.2,>=0.14.0 in /usr/local/lib/python3.7/dist-packages (from jsonschema>=2.6.0->labelme2coco==0.1.2) (0.18.1)\n",
            "Requirement already satisfied: importlib-metadata in /usr/local/lib/python3.7/dist-packages (from jsonschema>=2.6.0->labelme2coco==0.1.2) (4.12.0)\n",
            "Requirement already satisfied: zipp>=3.1.0 in /usr/local/lib/python3.7/dist-packages (from importlib-resources>=1.4.0->jsonschema>=2.6.0->labelme2coco==0.1.2) (3.8.1)\n",
            "Installing collected packages: labelme2coco\n",
            "  Attempting uninstall: labelme2coco\n",
            "    Found existing installation: labelme2coco 0.2.1\n",
            "    Uninstalling labelme2coco-0.2.1:\n",
            "      Successfully uninstalled labelme2coco-0.2.1\n",
            "Successfully installed labelme2coco-0.1.2\n"
          ]
        }
      ]
    },
    {
      "cell_type": "code",
      "source": [
        "!pip3 install tensorflow==2.4.1"
      ],
      "metadata": {
        "colab": {
          "base_uri": "https://localhost:8080/",
          "height": 1000
        },
        "id": "67MidQ1KrrVU",
        "outputId": "364a85a1-85f4-4d01-9aae-47a69a4683dc"
      },
      "execution_count": null,
      "outputs": [
        {
          "output_type": "stream",
          "name": "stdout",
          "text": [
            "Looking in indexes: https://pypi.org/simple, https://us-python.pkg.dev/colab-wheels/public/simple/\n",
            "Collecting tensorflow==2.4.1\n",
            "  Downloading tensorflow-2.4.1-cp37-cp37m-manylinux2010_x86_64.whl (394.3 MB)\n",
            "\u001b[K     |████████████████████████████████| 394.3 MB 13 kB/s \n",
            "\u001b[?25hRequirement already satisfied: termcolor~=1.1.0 in /usr/local/lib/python3.7/dist-packages (from tensorflow==2.4.1) (1.1.0)\n",
            "Collecting grpcio~=1.32.0\n",
            "  Downloading grpcio-1.32.0-cp37-cp37m-manylinux2014_x86_64.whl (3.8 MB)\n",
            "\u001b[K     |████████████████████████████████| 3.8 MB 54.8 MB/s \n",
            "\u001b[?25hCollecting flatbuffers~=1.12.0\n",
            "  Downloading flatbuffers-1.12-py2.py3-none-any.whl (15 kB)\n",
            "Requirement already satisfied: six~=1.15.0 in /usr/local/lib/python3.7/dist-packages (from tensorflow==2.4.1) (1.15.0)\n",
            "Requirement already satisfied: tensorboard~=2.4 in /usr/local/lib/python3.7/dist-packages (from tensorflow==2.4.1) (2.10.1)\n",
            "Collecting h5py~=2.10.0\n",
            "  Downloading h5py-2.10.0-cp37-cp37m-manylinux1_x86_64.whl (2.9 MB)\n",
            "\u001b[K     |████████████████████████████████| 2.9 MB 54.7 MB/s \n",
            "\u001b[?25hRequirement already satisfied: wheel~=0.35 in /usr/local/lib/python3.7/dist-packages (from tensorflow==2.4.1) (0.37.1)\n",
            "Collecting typing-extensions~=3.7.4\n",
            "  Downloading typing_extensions-3.7.4.3-py3-none-any.whl (22 kB)\n",
            "Requirement already satisfied: google-pasta~=0.2 in /usr/local/lib/python3.7/dist-packages (from tensorflow==2.4.1) (0.2.0)\n",
            "Requirement already satisfied: astunparse~=1.6.3 in /usr/local/lib/python3.7/dist-packages (from tensorflow==2.4.1) (1.6.3)\n",
            "Requirement already satisfied: protobuf>=3.9.2 in /usr/local/lib/python3.7/dist-packages (from tensorflow==2.4.1) (3.17.3)\n",
            "Requirement already satisfied: opt-einsum~=3.3.0 in /usr/local/lib/python3.7/dist-packages (from tensorflow==2.4.1) (3.3.0)\n",
            "Collecting wrapt~=1.12.1\n",
            "  Downloading wrapt-1.12.1.tar.gz (27 kB)\n",
            "Collecting gast==0.3.3\n",
            "  Downloading gast-0.3.3-py2.py3-none-any.whl (9.7 kB)\n",
            "Requirement already satisfied: keras-preprocessing~=1.1.2 in /usr/local/lib/python3.7/dist-packages (from tensorflow==2.4.1) (1.1.2)\n",
            "Collecting tensorflow-estimator<2.5.0,>=2.4.0\n",
            "  Downloading tensorflow_estimator-2.4.0-py2.py3-none-any.whl (462 kB)\n",
            "\u001b[K     |████████████████████████████████| 462 kB 64.6 MB/s \n",
            "\u001b[?25hCollecting absl-py~=0.10\n",
            "  Downloading absl_py-0.15.0-py3-none-any.whl (132 kB)\n",
            "\u001b[K     |████████████████████████████████| 132 kB 74.0 MB/s \n",
            "\u001b[?25hCollecting numpy~=1.19.2\n",
            "  Downloading numpy-1.19.5-cp37-cp37m-manylinux2010_x86_64.whl (14.8 MB)\n",
            "\u001b[K     |████████████████████████████████| 14.8 MB 49.2 MB/s \n",
            "\u001b[?25hRequirement already satisfied: tensorboard-plugin-wit>=1.6.0 in /usr/local/lib/python3.7/dist-packages (from tensorboard~=2.4->tensorflow==2.4.1) (1.8.1)\n",
            "Requirement already satisfied: setuptools>=41.0.0 in /usr/local/lib/python3.7/dist-packages (from tensorboard~=2.4->tensorflow==2.4.1) (57.4.0)\n",
            "Requirement already satisfied: tensorboard-data-server<0.7.0,>=0.6.0 in /usr/local/lib/python3.7/dist-packages (from tensorboard~=2.4->tensorflow==2.4.1) (0.6.1)\n",
            "Requirement already satisfied: markdown>=2.6.8 in /usr/local/lib/python3.7/dist-packages (from tensorboard~=2.4->tensorflow==2.4.1) (3.4.1)\n",
            "Requirement already satisfied: google-auth-oauthlib<0.5,>=0.4.1 in /usr/local/lib/python3.7/dist-packages (from tensorboard~=2.4->tensorflow==2.4.1) (0.4.6)\n",
            "Requirement already satisfied: requests<3,>=2.21.0 in /usr/local/lib/python3.7/dist-packages (from tensorboard~=2.4->tensorflow==2.4.1) (2.23.0)\n",
            "Requirement already satisfied: werkzeug>=1.0.1 in /usr/local/lib/python3.7/dist-packages (from tensorboard~=2.4->tensorflow==2.4.1) (1.0.1)\n",
            "Requirement already satisfied: google-auth<3,>=1.6.3 in /usr/local/lib/python3.7/dist-packages (from tensorboard~=2.4->tensorflow==2.4.1) (1.35.0)\n",
            "Requirement already satisfied: cachetools<5.0,>=2.0.0 in /usr/local/lib/python3.7/dist-packages (from google-auth<3,>=1.6.3->tensorboard~=2.4->tensorflow==2.4.1) (4.2.4)\n",
            "Requirement already satisfied: pyasn1-modules>=0.2.1 in /usr/local/lib/python3.7/dist-packages (from google-auth<3,>=1.6.3->tensorboard~=2.4->tensorflow==2.4.1) (0.2.8)\n",
            "Requirement already satisfied: rsa<5,>=3.1.4 in /usr/local/lib/python3.7/dist-packages (from google-auth<3,>=1.6.3->tensorboard~=2.4->tensorflow==2.4.1) (4.9)\n",
            "Requirement already satisfied: requests-oauthlib>=0.7.0 in /usr/local/lib/python3.7/dist-packages (from google-auth-oauthlib<0.5,>=0.4.1->tensorboard~=2.4->tensorflow==2.4.1) (1.3.1)\n",
            "Requirement already satisfied: importlib-metadata>=4.4 in /usr/local/lib/python3.7/dist-packages (from markdown>=2.6.8->tensorboard~=2.4->tensorflow==2.4.1) (4.12.0)\n",
            "Requirement already satisfied: zipp>=0.5 in /usr/local/lib/python3.7/dist-packages (from importlib-metadata>=4.4->markdown>=2.6.8->tensorboard~=2.4->tensorflow==2.4.1) (3.8.1)\n",
            "Requirement already satisfied: pyasn1<0.5.0,>=0.4.6 in /usr/local/lib/python3.7/dist-packages (from pyasn1-modules>=0.2.1->google-auth<3,>=1.6.3->tensorboard~=2.4->tensorflow==2.4.1) (0.4.8)\n",
            "Requirement already satisfied: chardet<4,>=3.0.2 in /usr/local/lib/python3.7/dist-packages (from requests<3,>=2.21.0->tensorboard~=2.4->tensorflow==2.4.1) (3.0.4)\n",
            "Requirement already satisfied: certifi>=2017.4.17 in /usr/local/lib/python3.7/dist-packages (from requests<3,>=2.21.0->tensorboard~=2.4->tensorflow==2.4.1) (2022.6.15)\n",
            "Requirement already satisfied: idna<3,>=2.5 in /usr/local/lib/python3.7/dist-packages (from requests<3,>=2.21.0->tensorboard~=2.4->tensorflow==2.4.1) (2.10)\n",
            "Requirement already satisfied: urllib3!=1.25.0,!=1.25.1,<1.26,>=1.21.1 in /usr/local/lib/python3.7/dist-packages (from requests<3,>=2.21.0->tensorboard~=2.4->tensorflow==2.4.1) (1.24.3)\n",
            "Requirement already satisfied: oauthlib>=3.0.0 in /usr/local/lib/python3.7/dist-packages (from requests-oauthlib>=0.7.0->google-auth-oauthlib<0.5,>=0.4.1->tensorboard~=2.4->tensorflow==2.4.1) (3.2.0)\n",
            "Building wheels for collected packages: wrapt\n",
            "  Building wheel for wrapt (setup.py) ... \u001b[?25l\u001b[?25hdone\n",
            "  Created wheel for wrapt: filename=wrapt-1.12.1-cp37-cp37m-linux_x86_64.whl size=68718 sha256=26e90c07fe939a2373ffcac0d674a5e10885ace47aba1d4364a0c4c56da2c9e5\n",
            "  Stored in directory: /root/.cache/pip/wheels/62/76/4c/aa25851149f3f6d9785f6c869387ad82b3fd37582fa8147ac6\n",
            "Successfully built wrapt\n",
            "Installing collected packages: typing-extensions, numpy, grpcio, absl-py, wrapt, tensorflow-estimator, h5py, gast, flatbuffers, tensorflow\n",
            "  Attempting uninstall: typing-extensions\n",
            "    Found existing installation: typing-extensions 4.1.1\n",
            "    Uninstalling typing-extensions-4.1.1:\n",
            "      Successfully uninstalled typing-extensions-4.1.1\n",
            "  Attempting uninstall: numpy\n",
            "    Found existing installation: numpy 1.21.6\n",
            "    Uninstalling numpy-1.21.6:\n",
            "      Successfully uninstalled numpy-1.21.6\n",
            "  Attempting uninstall: grpcio\n",
            "    Found existing installation: grpcio 1.48.1\n",
            "    Uninstalling grpcio-1.48.1:\n",
            "      Successfully uninstalled grpcio-1.48.1\n",
            "  Attempting uninstall: absl-py\n",
            "    Found existing installation: absl-py 1.2.0\n",
            "    Uninstalling absl-py-1.2.0:\n",
            "      Successfully uninstalled absl-py-1.2.0\n",
            "  Attempting uninstall: wrapt\n",
            "    Found existing installation: wrapt 1.14.1\n",
            "    Uninstalling wrapt-1.14.1:\n",
            "      Successfully uninstalled wrapt-1.14.1\n",
            "  Attempting uninstall: tensorflow-estimator\n",
            "    Found existing installation: tensorflow-estimator 2.10.0\n",
            "    Uninstalling tensorflow-estimator-2.10.0:\n",
            "      Successfully uninstalled tensorflow-estimator-2.10.0\n",
            "  Attempting uninstall: h5py\n",
            "    Found existing installation: h5py 3.1.0\n",
            "    Uninstalling h5py-3.1.0:\n",
            "      Successfully uninstalled h5py-3.1.0\n",
            "  Attempting uninstall: gast\n",
            "    Found existing installation: gast 0.4.0\n",
            "    Uninstalling gast-0.4.0:\n",
            "      Successfully uninstalled gast-0.4.0\n",
            "  Attempting uninstall: flatbuffers\n",
            "    Found existing installation: flatbuffers 2.0.7\n",
            "    Uninstalling flatbuffers-2.0.7:\n",
            "      Successfully uninstalled flatbuffers-2.0.7\n",
            "  Attempting uninstall: tensorflow\n",
            "    Found existing installation: tensorflow 2.8.2+zzzcolab20220719082949\n",
            "    Uninstalling tensorflow-2.8.2+zzzcolab20220719082949:\n",
            "      Successfully uninstalled tensorflow-2.8.2+zzzcolab20220719082949\n",
            "\u001b[31mERROR: pip's dependency resolver does not currently take into account all the packages that are installed. This behaviour is the source of the following dependency conflicts.\n",
            "xarray-einstats 0.2.2 requires numpy>=1.21, but you have numpy 1.19.5 which is incompatible.\n",
            "tensorflow-gpu 2.10.0 requires absl-py>=1.0.0, but you have absl-py 0.15.0 which is incompatible.\n",
            "tensorflow-gpu 2.10.0 requires flatbuffers>=2.0, but you have flatbuffers 1.12 which is incompatible.\n",
            "tensorflow-gpu 2.10.0 requires numpy>=1.20, but you have numpy 1.19.5 which is incompatible.\n",
            "tensorflow-gpu 2.10.0 requires tensorflow-estimator<2.11,>=2.10.0, but you have tensorflow-estimator 2.4.0 which is incompatible.\n",
            "jax 0.3.17 requires numpy>=1.20, but you have numpy 1.19.5 which is incompatible.\n",
            "cmdstanpy 1.0.7 requires numpy>=1.21, but you have numpy 1.19.5 which is incompatible.\u001b[0m\n",
            "Successfully installed absl-py-0.15.0 flatbuffers-1.12 gast-0.3.3 grpcio-1.32.0 h5py-2.10.0 numpy-1.19.5 tensorflow-2.4.1 tensorflow-estimator-2.4.0 typing-extensions-3.7.4.3 wrapt-1.12.1\n"
          ]
        },
        {
          "output_type": "display_data",
          "data": {
            "application/vnd.colab-display-data+json": {
              "pip_warning": {
                "packages": [
                  "numpy",
                  "typing_extensions"
                ]
              }
            }
          },
          "metadata": {}
        }
      ]
    },
    {
      "cell_type": "code",
      "execution_count": null,
      "metadata": {
        "colab": {
          "base_uri": "https://localhost:8080/"
        },
        "id": "2m-sXzQU0FLr",
        "outputId": "d7a31f3f-2e0b-4b96-e66e-7838bc243de7"
      },
      "outputs": [
        {
          "output_type": "stream",
          "name": "stdout",
          "text": [
            "Tensorflow version:  2.4.1\n",
            "LableMe2COCO version:  0.1.2\n"
          ]
        }
      ],
      "source": [
        "import tensorflow\n",
        "import labelme2coco\n",
        "import pixellib\n",
        "print(\"Tensorflow version: \", tensorflow.__version__)\n",
        "print(\"LableMe2COCO version: \", labelme2coco.__version__)"
      ]
    },
    {
      "cell_type": "code",
      "source": [
        "cd /content/drive/MyDrive/FoodDataSetPolygon"
      ],
      "metadata": {
        "colab": {
          "base_uri": "https://localhost:8080/"
        },
        "id": "j6ML0qZ0jopG",
        "outputId": "f05f8374-23b1-4514-8436-0828f8e293e7"
      },
      "execution_count": null,
      "outputs": [
        {
          "output_type": "stream",
          "name": "stdout",
          "text": [
            "/content/drive/MyDrive/FoodDataSetPolygon\n"
          ]
        }
      ]
    },
    {
      "cell_type": "code",
      "source": [
        "!wget --quiet https://github.com/matterport/Mask_RCNN/releases/download/v2.0/mask_rcnn_coco.h5"
      ],
      "metadata": {
        "id": "-KevEdPzk54t"
      },
      "execution_count": null,
      "outputs": []
    },
    {
      "cell_type": "code",
      "source": [
        "from pixellib.custom_train import instance_custom_training\n",
        "train_maskrcnn = instance_custom_training()\n",
        "\n",
        "train_maskrcnn.modelConfig(network_backbone = \"resnet101\", num_classes= 2, batch_size = 4)\n",
        "\n",
        "train_maskrcnn.load_pretrained_model(\"mask_rcnn_coco.h5\")\n"
      ],
      "metadata": {
        "colab": {
          "base_uri": "https://localhost:8080/"
        },
        "id": "Z4dCmAcxlLTe",
        "outputId": "e1c135e2-1112-47d9-cd28-74956d4970ef"
      },
      "execution_count": null,
      "outputs": [
        {
          "output_type": "stream",
          "name": "stdout",
          "text": [
            "Using resnet101 as network backbone For Mask R-CNN model\n"
          ]
        }
      ]
    },
    {
      "cell_type": "code",
      "source": [
        "cd .."
      ],
      "metadata": {
        "colab": {
          "base_uri": "https://localhost:8080/"
        },
        "id": "JUx6zHBglZ9O",
        "outputId": "db89b475-74ad-4661-8534-28e6d4e85323"
      },
      "execution_count": null,
      "outputs": [
        {
          "output_type": "stream",
          "name": "stdout",
          "text": [
            "/content/drive/MyDrive\n"
          ]
        }
      ]
    },
    {
      "cell_type": "markdown",
      "source": [
        "##Training"
      ],
      "metadata": {
        "id": "I_CihMD8Y9V1"
      }
    },
    {
      "cell_type": "code",
      "source": [
        "train_maskrcnn.load_dataset(\"FoodDataSetPolygon\")\n",
        "train_maskrcnn.train_model(num_epochs = 15, augmentation=True,  path_trained_models = \"mask_rcnn_models\")"
      ],
      "metadata": {
        "colab": {
          "base_uri": "https://localhost:8080/"
        },
        "id": "sM1rncjzljhu",
        "outputId": "3fed458e-0f9b-4f4b-e373-ac6fa919703b"
      },
      "execution_count": null,
      "outputs": [
        {
          "output_type": "stream",
          "name": "stdout",
          "text": [
            "Train 19 images\n",
            "Validate 6 images\n",
            "Applying augmentation on dataset\n",
            "Checkpoint Path: /content/drive/MyDrive/FoodDataSetPolygon/mask_rcnn_models\n",
            "Selecting layers to train\n"
          ]
        },
        {
          "output_type": "stream",
          "name": "stderr",
          "text": [
            "/usr/local/lib/python3.7/dist-packages/skimage/transform/_warps.py:830: FutureWarning: Input image dtype is bool. Interpolation is not defined with bool data type. Please set order to 0 or explicitely cast input image to another data type. Starting from version 0.19 a ValueError will be raised instead of this warning.\n",
            "  order = _validate_interpolation_order(image.dtype, order)\n",
            "/usr/local/lib/python3.7/dist-packages/skimage/transform/_warps.py:830: FutureWarning: Input image dtype is bool. Interpolation is not defined with bool data type. Please set order to 0 or explicitely cast input image to another data type. Starting from version 0.19 a ValueError will be raised instead of this warning.\n",
            "  order = _validate_interpolation_order(image.dtype, order)\n"
          ]
        },
        {
          "output_type": "stream",
          "name": "stdout",
          "text": [
            "Epoch 1/15\n",
            "100/100 [==============================] - 231s 2s/step - batch: 49.5000 - size: 4.0000 - loss: 0.8108 - rpn_class_loss: 0.0149 - rpn_bbox_loss: 0.1802 - mrcnn_class_loss: 0.1284 - mrcnn_bbox_loss: 0.2497 - mrcnn_mask_loss: 0.2377 - val_loss: 0.8710 - val_rpn_class_loss: 0.0112 - val_rpn_bbox_loss: 0.2717 - val_mrcnn_class_loss: 0.0461 - val_mrcnn_bbox_loss: 0.2408 - val_mrcnn_mask_loss: 0.3011\n",
            "Epoch 2/15\n",
            "100/100 [==============================] - 149s 1s/step - batch: 49.5000 - size: 4.0000 - loss: 0.2048 - rpn_class_loss: 0.0027 - rpn_bbox_loss: 0.0324 - mrcnn_class_loss: 0.0171 - mrcnn_bbox_loss: 0.0484 - mrcnn_mask_loss: 0.1042 - val_loss: 1.2710 - val_rpn_class_loss: 0.0182 - val_rpn_bbox_loss: 0.2252 - val_mrcnn_class_loss: 0.1578 - val_mrcnn_bbox_loss: 0.2443 - val_mrcnn_mask_loss: 0.6255\n",
            "Epoch 3/15\n",
            "100/100 [==============================] - 150s 1s/step - batch: 49.5000 - size: 4.0000 - loss: 0.1116 - rpn_class_loss: 0.0019 - rpn_bbox_loss: 0.0095 - mrcnn_class_loss: 0.0101 - mrcnn_bbox_loss: 0.0177 - mrcnn_mask_loss: 0.0723 - val_loss: 1.3714 - val_rpn_class_loss: 0.0294 - val_rpn_bbox_loss: 0.2064 - val_mrcnn_class_loss: 0.1776 - val_mrcnn_bbox_loss: 0.2223 - val_mrcnn_mask_loss: 0.7357\n",
            "Epoch 4/15\n",
            "100/100 [==============================] - 148s 1s/step - batch: 49.5000 - size: 4.0000 - loss: 0.0956 - rpn_class_loss: 0.0015 - rpn_bbox_loss: 0.0070 - mrcnn_class_loss: 0.0079 - mrcnn_bbox_loss: 0.0124 - mrcnn_mask_loss: 0.0668 - val_loss: 1.6414 - val_rpn_class_loss: 0.0246 - val_rpn_bbox_loss: 0.2121 - val_mrcnn_class_loss: 0.2361 - val_mrcnn_bbox_loss: 0.2228 - val_mrcnn_mask_loss: 0.9457\n",
            "Epoch 5/15\n",
            "100/100 [==============================] - 149s 1s/step - batch: 49.5000 - size: 4.0000 - loss: 0.0769 - rpn_class_loss: 9.0616e-04 - rpn_bbox_loss: 0.0044 - mrcnn_class_loss: 0.0052 - mrcnn_bbox_loss: 0.0075 - mrcnn_mask_loss: 0.0590 - val_loss: 2.1005 - val_rpn_class_loss: 0.0272 - val_rpn_bbox_loss: 0.2194 - val_mrcnn_class_loss: 0.3032 - val_mrcnn_bbox_loss: 0.2599 - val_mrcnn_mask_loss: 1.2909\n",
            "Epoch 6/15\n",
            "100/100 [==============================] - 149s 1s/step - batch: 49.5000 - size: 4.0000 - loss: 0.0747 - rpn_class_loss: 7.8019e-04 - rpn_bbox_loss: 0.0046 - mrcnn_class_loss: 0.0044 - mrcnn_bbox_loss: 0.0084 - mrcnn_mask_loss: 0.0566 - val_loss: 1.5537 - val_rpn_class_loss: 0.0227 - val_rpn_bbox_loss: 0.1876 - val_mrcnn_class_loss: 0.2408 - val_mrcnn_bbox_loss: 0.1936 - val_mrcnn_mask_loss: 0.9089\n",
            "Epoch 7/15\n",
            "100/100 [==============================] - 149s 1s/step - batch: 49.5000 - size: 4.0000 - loss: 0.0629 - rpn_class_loss: 7.7952e-04 - rpn_bbox_loss: 0.0032 - mrcnn_class_loss: 0.0037 - mrcnn_bbox_loss: 0.0052 - mrcnn_mask_loss: 0.0501 - val_loss: 1.6037 - val_rpn_class_loss: 0.0275 - val_rpn_bbox_loss: 0.2139 - val_mrcnn_class_loss: 0.2257 - val_mrcnn_bbox_loss: 0.1863 - val_mrcnn_mask_loss: 0.9503\n",
            "Epoch 8/15\n",
            "100/100 [==============================] - 149s 1s/step - batch: 49.5000 - size: 4.0000 - loss: 0.0579 - rpn_class_loss: 7.3995e-04 - rpn_bbox_loss: 0.0023 - mrcnn_class_loss: 0.0031 - mrcnn_bbox_loss: 0.0041 - mrcnn_mask_loss: 0.0476 - val_loss: 1.5082 - val_rpn_class_loss: 0.0276 - val_rpn_bbox_loss: 0.1940 - val_mrcnn_class_loss: 0.2122 - val_mrcnn_bbox_loss: 0.1925 - val_mrcnn_mask_loss: 0.8818\n",
            "Epoch 9/15\n",
            "100/100 [==============================] - 149s 1s/step - batch: 49.5000 - size: 4.0000 - loss: 0.0550 - rpn_class_loss: 6.6516e-04 - rpn_bbox_loss: 0.0021 - mrcnn_class_loss: 0.0036 - mrcnn_bbox_loss: 0.0041 - mrcnn_mask_loss: 0.0445 - val_loss: 1.8372 - val_rpn_class_loss: 0.0388 - val_rpn_bbox_loss: 0.2405 - val_mrcnn_class_loss: 0.2508 - val_mrcnn_bbox_loss: 0.2142 - val_mrcnn_mask_loss: 1.0929\n",
            "Epoch 10/15\n",
            "100/100 [==============================] - 148s 1s/step - batch: 49.5000 - size: 4.0000 - loss: 0.0508 - rpn_class_loss: 6.2632e-04 - rpn_bbox_loss: 0.0018 - mrcnn_class_loss: 0.0028 - mrcnn_bbox_loss: 0.0034 - mrcnn_mask_loss: 0.0421 - val_loss: 1.8812 - val_rpn_class_loss: 0.0338 - val_rpn_bbox_loss: 0.2107 - val_mrcnn_class_loss: 0.2629 - val_mrcnn_bbox_loss: 0.2183 - val_mrcnn_mask_loss: 1.1556\n",
            "Epoch 11/15\n",
            "100/100 [==============================] - 148s 1s/step - batch: 49.5000 - size: 4.0000 - loss: 0.0495 - rpn_class_loss: 7.2367e-04 - rpn_bbox_loss: 0.0016 - mrcnn_class_loss: 0.0030 - mrcnn_bbox_loss: 0.0032 - mrcnn_mask_loss: 0.0409 - val_loss: 1.9355 - val_rpn_class_loss: 0.0344 - val_rpn_bbox_loss: 0.2087 - val_mrcnn_class_loss: 0.2958 - val_mrcnn_bbox_loss: 0.2154 - val_mrcnn_mask_loss: 1.1811\n",
            "Epoch 12/15\n",
            "100/100 [==============================] - 150s 1s/step - batch: 49.5000 - size: 4.0000 - loss: 0.0502 - rpn_class_loss: 4.5866e-04 - rpn_bbox_loss: 0.0017 - mrcnn_class_loss: 0.0037 - mrcnn_bbox_loss: 0.0035 - mrcnn_mask_loss: 0.0409 - val_loss: 2.0100 - val_rpn_class_loss: 0.0319 - val_rpn_bbox_loss: 0.2255 - val_mrcnn_class_loss: 0.2607 - val_mrcnn_bbox_loss: 0.2222 - val_mrcnn_mask_loss: 1.2698\n",
            "Epoch 13/15\n",
            "100/100 [==============================] - 148s 1s/step - batch: 49.5000 - size: 4.0000 - loss: 0.0457 - rpn_class_loss: 5.5976e-04 - rpn_bbox_loss: 0.0015 - mrcnn_class_loss: 0.0027 - mrcnn_bbox_loss: 0.0029 - mrcnn_mask_loss: 0.0381 - val_loss: 1.8289 - val_rpn_class_loss: 0.0351 - val_rpn_bbox_loss: 0.2289 - val_mrcnn_class_loss: 0.2621 - val_mrcnn_bbox_loss: 0.2161 - val_mrcnn_mask_loss: 1.0867\n",
            "Epoch 14/15\n",
            "100/100 [==============================] - 149s 1s/step - batch: 49.5000 - size: 4.0000 - loss: 0.0457 - rpn_class_loss: 4.7035e-04 - rpn_bbox_loss: 0.0016 - mrcnn_class_loss: 0.0023 - mrcnn_bbox_loss: 0.0030 - mrcnn_mask_loss: 0.0384 - val_loss: 2.0276 - val_rpn_class_loss: 0.0393 - val_rpn_bbox_loss: 0.2470 - val_mrcnn_class_loss: 0.2479 - val_mrcnn_bbox_loss: 0.2193 - val_mrcnn_mask_loss: 1.2740\n",
            "Epoch 15/15\n",
            "100/100 [==============================] - 149s 1s/step - batch: 49.5000 - size: 4.0000 - loss: 0.0445 - rpn_class_loss: 5.2435e-04 - rpn_bbox_loss: 0.0014 - mrcnn_class_loss: 0.0024 - mrcnn_bbox_loss: 0.0028 - mrcnn_mask_loss: 0.0374 - val_loss: 1.8846 - val_rpn_class_loss: 0.0366 - val_rpn_bbox_loss: 0.2210 - val_mrcnn_class_loss: 0.2208 - val_mrcnn_bbox_loss: 0.2156 - val_mrcnn_mask_loss: 1.1905\n"
          ]
        }
      ]
    },
    {
      "cell_type": "markdown",
      "source": [
        "##Evaluation"
      ],
      "metadata": {
        "id": "Gad9CFR6ZCQs"
      }
    },
    {
      "cell_type": "code",
      "source": [
        "from pixellib.custom_train import instance_custom_training\n",
        "train_maskrcnn = instance_custom_training()\n",
        "train_maskrcnn.modelConfig(network_backbone = \"resnet101\", num_classes= 2)\n",
        "train_maskrcnn.load_dataset(\"FoodDataSetPolygon\")\n",
        "#Just to visualize a sample of the DataSet with Masks applied\n",
        "train_maskrcnn.visualize_sample()\n",
        "train_maskrcnn.evaluate_model(\"/content/drive/MyDrive/FoodDataSetPolygon/mask_rcnn_models/mask_rcnn_model.001-0.870961.h5\")"
      ],
      "metadata": {
        "colab": {
          "base_uri": "https://localhost:8080/",
          "height": 407
        },
        "id": "IrStbmUnZEID",
        "outputId": "2f80da87-2656-4f2a-93be-6e3ef9020097"
      },
      "execution_count": null,
      "outputs": [
        {
          "output_type": "stream",
          "name": "stdout",
          "text": [
            "Using resnet101 as network backbone For Mask R-CNN model\n"
          ]
        },
        {
          "output_type": "display_data",
          "data": {
            "text/plain": [
              "<Figure size 432x288 with 1 Axes>"
            ],
            "image/png": "[encoded data removed]"
          },
          "metadata": {
            "needs_background": "light"
          }
        },
        {
          "output_type": "stream",
          "name": "stderr",
          "text": [
            "WARNING:tensorflow:From /usr/local/lib/python3.7/dist-packages/tensorflow/python/util/deprecation.py:605: calling map_fn_v2 (from tensorflow.python.ops.map_fn) with dtype is deprecated and will be removed in a future version.\n",
            "Instructions for updating:\n",
            "Use fn_output_signature instead\n",
            "/usr/local/lib/python3.7/dist-packages/tensorflow/python/keras/engine/training.py:2325: UserWarning: `Model.state_updates` will be removed in a future version. This property should not be used in TensorFlow 2.0, as `updates` are applied automatically.\n",
            "  warnings.warn('`Model.state_updates` will be removed in a future version. '\n"
          ]
        },
        {
          "output_type": "stream",
          "name": "stdout",
          "text": [
            "/content/drive/MyDrive/FoodDataSetPolygon/mask_rcnn_models/mask_rcnn_model.001-0.870961.h5 evaluation using iou_threshold 0.5 is 0.694444 \n",
            "\n"
          ]
        }
      ]
    },
    {
      "cell_type": "markdown",
      "source": [
        "##Testing on New Sample Image"
      ],
      "metadata": {
        "id": "m4H5sr7KulT8"
      }
    },
    {
      "cell_type": "code",
      "source": [
        "import pixellib\n",
        "from pixellib.instance import custom_segmentation\n",
        "\n",
        "segment_image = custom_segmentation()\n",
        "segment_image.inferConfig(num_classes= 2, class_names= [\"BG\", \"daal\", \"rice\"])\n",
        "segment_image.load_model(\"/content/drive/MyDrive/FoodDataSetPolygon/mask_rcnn_models/mask_rcnn_model.001-0.870961.h5\")\n"
      ],
      "metadata": {
        "id": "kZx0Wk7nudet"
      },
      "execution_count": null,
      "outputs": []
    },
    {
      "cell_type": "code",
      "source": [
        "cd /content/drive/MyDrive/FoodDataSetPolygon"
      ],
      "metadata": {
        "colab": {
          "base_uri": "https://localhost:8080/"
        },
        "id": "UXDE_XBrwFPl",
        "outputId": "40c9963c-e03e-4d98-90ff-4ac745c1597b"
      },
      "execution_count": null,
      "outputs": [
        {
          "output_type": "stream",
          "name": "stdout",
          "text": [
            "/content/drive/MyDrive/FoodDataSetPolygon\n"
          ]
        }
      ]
    },
    {
      "cell_type": "code",
      "source": [
        "segment_image.segmentImage(\"/content/drive/MyDrive/Daal-Rice/Dataset/train/daalRice10.jpg\", output_image_name = \"/content/drive/MyDrive/FoodDataSetPolygon/sample_out.jpg\",  show_bboxes=True)"
      ],
      "metadata": {
        "colab": {
          "base_uri": "https://localhost:8080/"
        },
        "id": "6LS7KLfJvcjg",
        "outputId": "53f83831-ddad-42ca-b64d-607a81df3763"
      },
      "execution_count": null,
      "outputs": [
        {
          "output_type": "stream",
          "name": "stdout",
          "text": [
            "Processed Image saved successfully in your current working directory.\n"
          ]
        },
        {
          "output_type": "execute_result",
          "data": {
            "text/plain": [
              "({'rois': array([[ 66, 121, 349, 306],\n",
              "         [128, 325, 312, 488]], dtype=int32),\n",
              "  'class_ids': array([2, 1], dtype=int32),\n",
              "  'scores': array([0.994578 , 0.9903866], dtype=float32),\n",
              "  'masks': array([[[False, False],\n",
              "          [False, False],\n",
              "          [False, False],\n",
              "          ...,\n",
              "          [False, False],\n",
              "          [False, False],\n",
              "          [False, False]],\n",
              "  \n",
              "         [[False, False],\n",
              "          [False, False],\n",
              "          [False, False],\n",
              "          ...,\n",
              "          [False, False],\n",
              "          [False, False],\n",
              "          [False, False]],\n",
              "  \n",
              "         [[False, False],\n",
              "          [False, False],\n",
              "          [False, False],\n",
              "          ...,\n",
              "          [False, False],\n",
              "          [False, False],\n",
              "          [False, False]],\n",
              "  \n",
              "         ...,\n",
              "  \n",
              "         [[False, False],\n",
              "          [False, False],\n",
              "          [False, False],\n",
              "          ...,\n",
              "          [False, False],\n",
              "          [False, False],\n",
              "          [False, False]],\n",
              "  \n",
              "         [[False, False],\n",
              "          [False, False],\n",
              "          [False, False],\n",
              "          ...,\n",
              "          [False, False],\n",
              "          [False, False],\n",
              "          [False, False]],\n",
              "  \n",
              "         [[False, False],\n",
              "          [False, False],\n",
              "          [False, False],\n",
              "          ...,\n",
              "          [False, False],\n",
              "          [False, False],\n",
              "          [False, False]]])},\n",
              " array([[[245, 235, 235],\n",
              "         [245, 235, 235],\n",
              "         [245, 235, 235],\n",
              "         ...,\n",
              "         [246, 236, 236],\n",
              "         [246, 236, 236],\n",
              "         [246, 236, 236]],\n",
              " \n",
              "        [[245, 235, 235],\n",
              "         [245, 235, 235],\n",
              "         [245, 235, 235],\n",
              "         ...,\n",
              "         [246, 236, 236],\n",
              "         [246, 236, 236],\n",
              "         [246, 236, 236]],\n",
              " \n",
              "        [[245, 235, 235],\n",
              "         [245, 235, 235],\n",
              "         [245, 235, 235],\n",
              "         ...,\n",
              "         [246, 236, 236],\n",
              "         [246, 236, 236],\n",
              "         [246, 236, 236]],\n",
              " \n",
              "        ...,\n",
              " \n",
              "        [[240, 227, 229],\n",
              "         [240, 227, 229],\n",
              "         [240, 227, 229],\n",
              "         ...,\n",
              "         [236, 219, 222],\n",
              "         [235, 218, 221],\n",
              "         [235, 218, 221]],\n",
              " \n",
              "        [[240, 227, 229],\n",
              "         [240, 227, 229],\n",
              "         [240, 227, 229],\n",
              "         ...,\n",
              "         [236, 219, 222],\n",
              "         [235, 218, 221],\n",
              "         [235, 218, 221]],\n",
              " \n",
              "        [[240, 227, 229],\n",
              "         [240, 227, 229],\n",
              "         [240, 227, 229],\n",
              "         ...,\n",
              "         [236, 219, 222],\n",
              "         [235, 218, 221],\n",
              "         [235, 218, 221]]], dtype=uint8))"
            ]
          },
          "metadata": {},
          "execution_count": 17
        }
      ]
    },
    {
      "cell_type": "markdown",
      "source": [
        "##2nd Iteration of Training (Taking Weights from First Training as Pre-Trained) "
      ],
      "metadata": {
        "id": "gczuEGvZrya-"
      }
    },
    {
      "cell_type": "code",
      "source": [
        "cd /content/drive/MyDrive/DaalRicePolygon2"
      ],
      "metadata": {
        "colab": {
          "base_uri": "https://localhost:8080/"
        },
        "id": "u5iLhIySsLTB",
        "outputId": "bea60803-4152-4ca0-db74-218b40963aa7"
      },
      "execution_count": null,
      "outputs": [
        {
          "output_type": "stream",
          "name": "stdout",
          "text": [
            "/content/drive/MyDrive/DaalRicePolygon2\n"
          ]
        }
      ]
    },
    {
      "cell_type": "markdown",
      "source": [
        "###Loading Pre-Trained Weights"
      ],
      "metadata": {
        "id": "3T3NWosttybg"
      }
    },
    {
      "cell_type": "code",
      "source": [
        "from pixellib.custom_train import instance_custom_training\n",
        "train_maskrcnn = instance_custom_training()\n",
        "\n",
        "train_maskrcnn.modelConfig(network_backbone = \"resnet101\", num_classes= 2, batch_size = 4)\n",
        "\n",
        "train_maskrcnn.load_pretrained_model(\"/content/drive/MyDrive/FoodDataSetPolygon/mask_rcnn_models/mask_rcnn_model.001-0.870961.h5\")\n"
      ],
      "metadata": {
        "colab": {
          "base_uri": "https://localhost:8080/"
        },
        "id": "8sB7QDDrscTo",
        "outputId": "5a132a77-3697-493a-a131-30623867c805"
      },
      "execution_count": null,
      "outputs": [
        {
          "output_type": "stream",
          "name": "stdout",
          "text": [
            "Using resnet101 as network backbone For Mask R-CNN model\n"
          ]
        }
      ]
    },
    {
      "cell_type": "markdown",
      "source": [
        "###Visualizing sample"
      ],
      "metadata": {
        "id": "wZxtfW7OvdUq"
      }
    },
    {
      "cell_type": "code",
      "source": [
        "cd .."
      ],
      "metadata": {
        "colab": {
          "base_uri": "https://localhost:8080/"
        },
        "id": "VacvurysvcTk",
        "outputId": "59a60875-bb56-4f7f-e089-1625a6b7405a"
      },
      "execution_count": null,
      "outputs": [
        {
          "output_type": "stream",
          "name": "stdout",
          "text": [
            "/content/drive/MyDrive\n"
          ]
        }
      ]
    },
    {
      "cell_type": "code",
      "source": [
        "train_maskrcnn.load_dataset(\"DaalRicePolygon2\")\n",
        "train_maskrcnn.visualize_sample()"
      ],
      "metadata": {
        "colab": {
          "base_uri": "https://localhost:8080/",
          "height": 248
        },
        "id": "dnwZyHeOwSjg",
        "outputId": "1412be49-27ad-49a6-fcd3-69bd780830df"
      },
      "execution_count": null,
      "outputs": [
        {
          "output_type": "display_data",
          "data": {
            "text/plain": [
              "<Figure size 432x288 with 1 Axes>"
            ],
            "image/png": "[encoded data removed]"
          },
          "metadata": {
            "needs_background": "light"
          }
        }
      ]
    },
    {
      "cell_type": "markdown",
      "source": [
        "###Training Model"
      ],
      "metadata": {
        "id": "0-XG9z36w0hq"
      }
    },
    {
      "cell_type": "code",
      "source": [
        "!pip3 install \"numpy>=1.21.0\"\n"
      ],
      "metadata": {
        "colab": {
          "base_uri": "https://localhost:8080/"
        },
        "id": "elCKogVx23Sl",
        "outputId": "8d792536-6101-44c2-b222-20e1ba874c96"
      },
      "execution_count": null,
      "outputs": [
        {
          "output_type": "stream",
          "name": "stdout",
          "text": [
            "Looking in indexes: https://pypi.org/simple, https://us-python.pkg.dev/colab-wheels/public/simple/\n",
            "Requirement already satisfied: numpy>=1.21.0 in /usr/local/lib/python3.7/dist-packages (1.21.6)\n"
          ]
        }
      ]
    },
    {
      "cell_type": "code",
      "source": [
        "import numpy\n",
        "print(numpy.__version__)"
      ],
      "metadata": {
        "colab": {
          "base_uri": "https://localhost:8080/"
        },
        "id": "Ihaxmeiu3PNf",
        "outputId": "bff421a0-894c-43a2-f8b1-84fc5ac63ff9"
      },
      "execution_count": null,
      "outputs": [
        {
          "output_type": "stream",
          "name": "stdout",
          "text": [
            "1.21.6\n"
          ]
        }
      ]
    },
    {
      "cell_type": "code",
      "source": [
        "train_maskrcnn.train_model(num_epochs = 35, augmentation=True,  path_trained_models = \"mask_rcnn_models\")"
      ],
      "metadata": {
        "colab": {
          "base_uri": "https://localhost:8080/"
        },
        "id": "L6leyUNnwcfi",
        "outputId": "c5a4bae0-4c0f-4fd0-b7b7-d3122e5806c2"
      },
      "execution_count": null,
      "outputs": [
        {
          "output_type": "stream",
          "name": "stdout",
          "text": [
            "Train 146 images\n",
            "Validate 38 images\n",
            "Applying augmentation on dataset\n",
            "Checkpoint Path: /content/drive/MyDrive/DaalRicePolygon2/mask_rcnn_models\n",
            "Selecting layers to train\n"
          ]
        },
        {
          "output_type": "stream",
          "name": "stderr",
          "text": [
            "/usr/local/lib/python3.7/dist-packages/skimage/transform/_warps.py:830: FutureWarning: Input image dtype is bool. Interpolation is not defined with bool data type. Please set order to 0 or explicitely cast input image to another data type. Starting from version 0.19 a ValueError will be raised instead of this warning.\n",
            "  order = _validate_interpolation_order(image.dtype, order)\n",
            "/usr/local/lib/python3.7/dist-packages/skimage/transform/_warps.py:830: FutureWarning: Input image dtype is bool. Interpolation is not defined with bool data type. Please set order to 0 or explicitely cast input image to another data type. Starting from version 0.19 a ValueError will be raised instead of this warning.\n",
            "  order = _validate_interpolation_order(image.dtype, order)\n",
            "/usr/local/lib/python3.7/dist-packages/skimage/transform/_warps.py:830: FutureWarning: Input image dtype is bool. Interpolation is not defined with bool data type. Please set order to 0 or explicitely cast input image to another data type. Starting from version 0.19 a ValueError will be raised instead of this warning.\n",
            "  order = _validate_interpolation_order(image.dtype, order)\n",
            "/usr/local/lib/python3.7/dist-packages/skimage/transform/_warps.py:830: FutureWarning: Input image dtype is bool. Interpolation is not defined with bool data type. Please set order to 0 or explicitely cast input image to another data type. Starting from version 0.19 a ValueError will be raised instead of this warning.\n",
            "  order = _validate_interpolation_order(image.dtype, order)\n",
            "/usr/local/lib/python3.7/dist-packages/skimage/transform/_warps.py:830: FutureWarning: Input image dtype is bool. Interpolation is not defined with bool data type. Please set order to 0 or explicitely cast input image to another data type. Starting from version 0.19 a ValueError will be raised instead of this warning.\n",
            "  order = _validate_interpolation_order(image.dtype, order)\n",
            "/usr/local/lib/python3.7/dist-packages/skimage/transform/_warps.py:830: FutureWarning: Input image dtype is bool. Interpolation is not defined with bool data type. Please set order to 0 or explicitely cast input image to another data type. Starting from version 0.19 a ValueError will be raised instead of this warning.\n",
            "  order = _validate_interpolation_order(image.dtype, order)\n",
            "/usr/local/lib/python3.7/dist-packages/skimage/transform/_warps.py:830: FutureWarning: Input image dtype is bool. Interpolation is not defined with bool data type. Please set order to 0 or explicitely cast input image to another data type. Starting from version 0.19 a ValueError will be raised instead of this warning.\n",
            "  order = _validate_interpolation_order(image.dtype, order)\n",
            "/usr/local/lib/python3.7/dist-packages/skimage/transform/_warps.py:830: FutureWarning: Input image dtype is bool. Interpolation is not defined with bool data type. Please set order to 0 or explicitely cast input image to another data type. Starting from version 0.19 a ValueError will be raised instead of this warning.\n",
            "  order = _validate_interpolation_order(image.dtype, order)\n",
            "/usr/local/lib/python3.7/dist-packages/skimage/transform/_warps.py:830: FutureWarning: Input image dtype is bool. Interpolation is not defined with bool data type. Please set order to 0 or explicitely cast input image to another data type. Starting from version 0.19 a ValueError will be raised instead of this warning.\n",
            "  order = _validate_interpolation_order(image.dtype, order)\n",
            "/usr/local/lib/python3.7/dist-packages/skimage/transform/_warps.py:830: FutureWarning: Input image dtype is bool. Interpolation is not defined with bool data type. Please set order to 0 or explicitely cast input image to another data type. Starting from version 0.19 a ValueError will be raised instead of this warning.\n",
            "  order = _validate_interpolation_order(image.dtype, order)\n",
            "/usr/local/lib/python3.7/dist-packages/skimage/transform/_warps.py:830: FutureWarning: Input image dtype is bool. Interpolation is not defined with bool data type. Please set order to 0 or explicitely cast input image to another data type. Starting from version 0.19 a ValueError will be raised instead of this warning.\n",
            "  order = _validate_interpolation_order(image.dtype, order)\n",
            "/usr/local/lib/python3.7/dist-packages/skimage/transform/_warps.py:830: FutureWarning: Input image dtype is bool. Interpolation is not defined with bool data type. Please set order to 0 or explicitely cast input image to another data type. Starting from version 0.19 a ValueError will be raised instead of this warning.\n",
            "  order = _validate_interpolation_order(image.dtype, order)\n",
            "/usr/local/lib/python3.7/dist-packages/skimage/transform/_warps.py:830: FutureWarning: Input image dtype is bool. Interpolation is not defined with bool data type. Please set order to 0 or explicitely cast input image to another data type. Starting from version 0.19 a ValueError will be raised instead of this warning.\n",
            "  order = _validate_interpolation_order(image.dtype, order)\n",
            "/usr/local/lib/python3.7/dist-packages/skimage/transform/_warps.py:830: FutureWarning: Input image dtype is bool. Interpolation is not defined with bool data type. Please set order to 0 or explicitely cast input image to another data type. Starting from version 0.19 a ValueError will be raised instead of this warning.\n",
            "  order = _validate_interpolation_order(image.dtype, order)\n",
            "/usr/local/lib/python3.7/dist-packages/skimage/transform/_warps.py:830: FutureWarning: Input image dtype is bool. Interpolation is not defined with bool data type. Please set order to 0 or explicitely cast input image to another data type. Starting from version 0.19 a ValueError will be raised instead of this warning.\n",
            "  order = _validate_interpolation_order(image.dtype, order)\n",
            "/usr/local/lib/python3.7/dist-packages/skimage/transform/_warps.py:830: FutureWarning: Input image dtype is bool. Interpolation is not defined with bool data type. Please set order to 0 or explicitely cast input image to another data type. Starting from version 0.19 a ValueError will be raised instead of this warning.\n",
            "  order = _validate_interpolation_order(image.dtype, order)\n",
            "/usr/local/lib/python3.7/dist-packages/skimage/transform/_warps.py:830: FutureWarning: Input image dtype is bool. Interpolation is not defined with bool data type. Please set order to 0 or explicitely cast input image to another data type. Starting from version 0.19 a ValueError will be raised instead of this warning.\n",
            "  order = _validate_interpolation_order(image.dtype, order)\n",
            "/usr/local/lib/python3.7/dist-packages/skimage/transform/_warps.py:830: FutureWarning: Input image dtype is bool. Interpolation is not defined with bool data type. Please set order to 0 or explicitely cast input image to another data type. Starting from version 0.19 a ValueError will be raised instead of this warning.\n",
            "  order = _validate_interpolation_order(image.dtype, order)\n",
            "/usr/local/lib/python3.7/dist-packages/skimage/transform/_warps.py:830: FutureWarning: Input image dtype is bool. Interpolation is not defined with bool data type. Please set order to 0 or explicitely cast input image to another data type. Starting from version 0.19 a ValueError will be raised instead of this warning.\n",
            "  order = _validate_interpolation_order(image.dtype, order)\n",
            "/usr/local/lib/python3.7/dist-packages/skimage/transform/_warps.py:830: FutureWarning: Input image dtype is bool. Interpolation is not defined with bool data type. Please set order to 0 or explicitely cast input image to another data type. Starting from version 0.19 a ValueError will be raised instead of this warning.\n",
            "  order = _validate_interpolation_order(image.dtype, order)\n",
            "/usr/local/lib/python3.7/dist-packages/skimage/transform/_warps.py:830: FutureWarning: Input image dtype is bool. Interpolation is not defined with bool data type. Please set order to 0 or explicitely cast input image to another data type. Starting from version 0.19 a ValueError will be raised instead of this warning.\n",
            "  order = _validate_interpolation_order(image.dtype, order)\n",
            "/usr/local/lib/python3.7/dist-packages/skimage/transform/_warps.py:830: FutureWarning: Input image dtype is bool. Interpolation is not defined with bool data type. Please set order to 0 or explicitely cast input image to another data type. Starting from version 0.19 a ValueError will be raised instead of this warning.\n",
            "  order = _validate_interpolation_order(image.dtype, order)\n"
          ]
        },
        {
          "output_type": "stream",
          "name": "stdout",
          "text": [
            "Epoch 1/35\n",
            "100/100 [==============================] - 210s 2s/step - batch: 49.5000 - size: 4.0000 - loss: 0.6560 - rpn_class_loss: 0.0055 - rpn_bbox_loss: 0.1433 - mrcnn_class_loss: 0.0949 - mrcnn_bbox_loss: 0.1626 - mrcnn_mask_loss: 0.2497 - val_loss: 0.7348 - val_rpn_class_loss: 0.0174 - val_rpn_bbox_loss: 0.2627 - val_mrcnn_class_loss: 0.1431 - val_mrcnn_bbox_loss: 0.1391 - val_mrcnn_mask_loss: 0.1726\n",
            "Epoch 2/35\n",
            "100/100 [==============================] - 142s 1s/step - batch: 49.5000 - size: 4.0000 - loss: 0.2658 - rpn_class_loss: 0.0032 - rpn_bbox_loss: 0.0742 - mrcnn_class_loss: 0.0195 - mrcnn_bbox_loss: 0.0566 - mrcnn_mask_loss: 0.1124 - val_loss: 0.9964 - val_rpn_class_loss: 0.0295 - val_rpn_bbox_loss: 0.5875 - val_mrcnn_class_loss: 0.1444 - val_mrcnn_bbox_loss: 0.0808 - val_mrcnn_mask_loss: 0.1542\n",
            "Epoch 3/35\n",
            "100/100 [==============================] - 146s 1s/step - batch: 49.5000 - size: 4.0000 - loss: 0.2274 - rpn_class_loss: 0.0022 - rpn_bbox_loss: 0.0600 - mrcnn_class_loss: 0.0147 - mrcnn_bbox_loss: 0.0406 - mrcnn_mask_loss: 0.1099 - val_loss: 1.1058 - val_rpn_class_loss: 0.0293 - val_rpn_bbox_loss: 0.5928 - val_mrcnn_class_loss: 0.1257 - val_mrcnn_bbox_loss: 0.1140 - val_mrcnn_mask_loss: 0.2441\n",
            "Epoch 4/35\n",
            "100/100 [==============================] - 145s 1s/step - batch: 49.5000 - size: 4.0000 - loss: 0.2053 - rpn_class_loss: 0.0032 - rpn_bbox_loss: 0.0457 - mrcnn_class_loss: 0.0147 - mrcnn_bbox_loss: 0.0393 - mrcnn_mask_loss: 0.1023 - val_loss: 2.1066 - val_rpn_class_loss: 0.0563 - val_rpn_bbox_loss: 1.3068 - val_mrcnn_class_loss: 0.2543 - val_mrcnn_bbox_loss: 0.2144 - val_mrcnn_mask_loss: 0.2748\n",
            "Epoch 5/35\n",
            "100/100 [==============================] - 145s 1s/step - batch: 49.5000 - size: 4.0000 - loss: 0.1815 - rpn_class_loss: 0.0023 - rpn_bbox_loss: 0.0400 - mrcnn_class_loss: 0.0114 - mrcnn_bbox_loss: 0.0326 - mrcnn_mask_loss: 0.0953 - val_loss: 0.8538 - val_rpn_class_loss: 0.0170 - val_rpn_bbox_loss: 0.3114 - val_mrcnn_class_loss: 0.1342 - val_mrcnn_bbox_loss: 0.1127 - val_mrcnn_mask_loss: 0.2784\n",
            "Epoch 6/35\n",
            "100/100 [==============================] - 145s 1s/step - batch: 49.5000 - size: 4.0000 - loss: 0.1800 - rpn_class_loss: 0.0022 - rpn_bbox_loss: 0.0475 - mrcnn_class_loss: 0.0086 - mrcnn_bbox_loss: 0.0300 - mrcnn_mask_loss: 0.0917 - val_loss: 0.9883 - val_rpn_class_loss: 0.0183 - val_rpn_bbox_loss: 0.4492 - val_mrcnn_class_loss: 0.1831 - val_mrcnn_bbox_loss: 0.1032 - val_mrcnn_mask_loss: 0.2345\n",
            "Epoch 7/35\n",
            "100/100 [==============================] - 144s 1s/step - batch: 49.5000 - size: 4.0000 - loss: 0.1585 - rpn_class_loss: 0.0021 - rpn_bbox_loss: 0.0425 - mrcnn_class_loss: 0.0053 - mrcnn_bbox_loss: 0.0224 - mrcnn_mask_loss: 0.0862 - val_loss: 0.9724 - val_rpn_class_loss: 0.0240 - val_rpn_bbox_loss: 0.3507 - val_mrcnn_class_loss: 0.1096 - val_mrcnn_bbox_loss: 0.1225 - val_mrcnn_mask_loss: 0.3656\n",
            "Epoch 8/35\n",
            "100/100 [==============================] - 145s 1s/step - batch: 49.5000 - size: 4.0000 - loss: 0.1531 - rpn_class_loss: 0.0017 - rpn_bbox_loss: 0.0285 - mrcnn_class_loss: 0.0083 - mrcnn_bbox_loss: 0.0245 - mrcnn_mask_loss: 0.0901 - val_loss: 0.9445 - val_rpn_class_loss: 0.0167 - val_rpn_bbox_loss: 0.2867 - val_mrcnn_class_loss: 0.1698 - val_mrcnn_bbox_loss: 0.1135 - val_mrcnn_mask_loss: 0.3578\n",
            "Epoch 9/35\n",
            "100/100 [==============================] - 145s 1s/step - batch: 49.5000 - size: 4.0000 - loss: 0.1215 - rpn_class_loss: 0.0015 - rpn_bbox_loss: 0.0201 - mrcnn_class_loss: 0.0056 - mrcnn_bbox_loss: 0.0178 - mrcnn_mask_loss: 0.0765 - val_loss: 1.3460 - val_rpn_class_loss: 0.0329 - val_rpn_bbox_loss: 0.5484 - val_mrcnn_class_loss: 0.1688 - val_mrcnn_bbox_loss: 0.0811 - val_mrcnn_mask_loss: 0.5148\n",
            "Epoch 10/35\n",
            "100/100 [==============================] - 147s 1s/step - batch: 49.5000 - size: 4.0000 - loss: 0.1177 - rpn_class_loss: 0.0011 - rpn_bbox_loss: 0.0195 - mrcnn_class_loss: 0.0051 - mrcnn_bbox_loss: 0.0173 - mrcnn_mask_loss: 0.0746 - val_loss: 1.6573 - val_rpn_class_loss: 0.0266 - val_rpn_bbox_loss: 0.5697 - val_mrcnn_class_loss: 0.1325 - val_mrcnn_bbox_loss: 0.0916 - val_mrcnn_mask_loss: 0.8369\n",
            "Epoch 11/35\n",
            "100/100 [==============================] - 145s 1s/step - batch: 49.5000 - size: 4.0000 - loss: 0.1116 - rpn_class_loss: 0.0013 - rpn_bbox_loss: 0.0154 - mrcnn_class_loss: 0.0060 - mrcnn_bbox_loss: 0.0181 - mrcnn_mask_loss: 0.0707 - val_loss: 1.6791 - val_rpn_class_loss: 0.0371 - val_rpn_bbox_loss: 0.5362 - val_mrcnn_class_loss: 0.1836 - val_mrcnn_bbox_loss: 0.1098 - val_mrcnn_mask_loss: 0.8123\n",
            "Epoch 12/35\n",
            "100/100 [==============================] - 145s 1s/step - batch: 49.5000 - size: 4.0000 - loss: 0.1186 - rpn_class_loss: 0.0011 - rpn_bbox_loss: 0.0205 - mrcnn_class_loss: 0.0045 - mrcnn_bbox_loss: 0.0173 - mrcnn_mask_loss: 0.0752 - val_loss: 1.5556 - val_rpn_class_loss: 0.0396 - val_rpn_bbox_loss: 0.6233 - val_mrcnn_class_loss: 0.1209 - val_mrcnn_bbox_loss: 0.0972 - val_mrcnn_mask_loss: 0.6747\n",
            "Epoch 13/35\n",
            "100/100 [==============================] - 146s 1s/step - batch: 49.5000 - size: 4.0000 - loss: 0.0966 - rpn_class_loss: 8.5287e-04 - rpn_bbox_loss: 0.0125 - mrcnn_class_loss: 0.0036 - mrcnn_bbox_loss: 0.0103 - mrcnn_mask_loss: 0.0694 - val_loss: 1.5513 - val_rpn_class_loss: 0.0191 - val_rpn_bbox_loss: 0.4570 - val_mrcnn_class_loss: 0.1161 - val_mrcnn_bbox_loss: 0.1054 - val_mrcnn_mask_loss: 0.8537\n",
            "Epoch 14/35\n",
            "100/100 [==============================] - 144s 1s/step - batch: 49.5000 - size: 4.0000 - loss: 0.0908 - rpn_class_loss: 8.2233e-04 - rpn_bbox_loss: 0.0128 - mrcnn_class_loss: 0.0029 - mrcnn_bbox_loss: 0.0102 - mrcnn_mask_loss: 0.0641 - val_loss: 1.6003 - val_rpn_class_loss: 0.0230 - val_rpn_bbox_loss: 0.3828 - val_mrcnn_class_loss: 0.1734 - val_mrcnn_bbox_loss: 0.1479 - val_mrcnn_mask_loss: 0.8733\n",
            "Epoch 15/35\n",
            "100/100 [==============================] - 144s 1s/step - batch: 49.5000 - size: 4.0000 - loss: 0.1065 - rpn_class_loss: 8.9726e-04 - rpn_bbox_loss: 0.0152 - mrcnn_class_loss: 0.0039 - mrcnn_bbox_loss: 0.0149 - mrcnn_mask_loss: 0.0716 - val_loss: 1.7495 - val_rpn_class_loss: 0.0422 - val_rpn_bbox_loss: 0.6949 - val_mrcnn_class_loss: 0.1174 - val_mrcnn_bbox_loss: 0.1187 - val_mrcnn_mask_loss: 0.7763\n",
            "Epoch 16/35\n",
            "100/100 [==============================] - 145s 1s/step - batch: 49.5000 - size: 4.0000 - loss: 0.1021 - rpn_class_loss: 0.0014 - rpn_bbox_loss: 0.0158 - mrcnn_class_loss: 0.0041 - mrcnn_bbox_loss: 0.0127 - mrcnn_mask_loss: 0.0682 - val_loss: 1.9358 - val_rpn_class_loss: 0.0361 - val_rpn_bbox_loss: 0.5847 - val_mrcnn_class_loss: 0.1296 - val_mrcnn_bbox_loss: 0.1366 - val_mrcnn_mask_loss: 1.0487\n",
            "Epoch 17/35\n",
            "100/100 [==============================] - 144s 1s/step - batch: 49.5000 - size: 4.0000 - loss: 0.0913 - rpn_class_loss: 9.2788e-04 - rpn_bbox_loss: 0.0112 - mrcnn_class_loss: 0.0040 - mrcnn_bbox_loss: 0.0094 - mrcnn_mask_loss: 0.0658 - val_loss: 2.1007 - val_rpn_class_loss: 0.0660 - val_rpn_bbox_loss: 1.0845 - val_mrcnn_class_loss: 0.1075 - val_mrcnn_bbox_loss: 0.1240 - val_mrcnn_mask_loss: 0.7188\n",
            "Epoch 18/35\n",
            "100/100 [==============================] - 145s 1s/step - batch: 49.5000 - size: 4.0000 - loss: 0.0843 - rpn_class_loss: 7.0766e-04 - rpn_bbox_loss: 0.0082 - mrcnn_class_loss: 0.0041 - mrcnn_bbox_loss: 0.0073 - mrcnn_mask_loss: 0.0639 - val_loss: 1.9687 - val_rpn_class_loss: 0.0531 - val_rpn_bbox_loss: 0.9126 - val_mrcnn_class_loss: 0.1133 - val_mrcnn_bbox_loss: 0.1401 - val_mrcnn_mask_loss: 0.7496\n",
            "Epoch 19/35\n",
            "100/100 [==============================] - 145s 1s/step - batch: 49.5000 - size: 4.0000 - loss: 0.0913 - rpn_class_loss: 9.1025e-04 - rpn_bbox_loss: 0.0118 - mrcnn_class_loss: 0.0034 - mrcnn_bbox_loss: 0.0090 - mrcnn_mask_loss: 0.0662 - val_loss: 2.3351 - val_rpn_class_loss: 0.0455 - val_rpn_bbox_loss: 0.8508 - val_mrcnn_class_loss: 0.1137 - val_mrcnn_bbox_loss: 0.1494 - val_mrcnn_mask_loss: 1.1756\n",
            "Epoch 20/35\n",
            "100/100 [==============================] - 147s 1s/step - batch: 49.5000 - size: 4.0000 - loss: 0.0908 - rpn_class_loss: 5.7466e-04 - rpn_bbox_loss: 0.0098 - mrcnn_class_loss: 0.0030 - mrcnn_bbox_loss: 0.0108 - mrcnn_mask_loss: 0.0666 - val_loss: 2.3178 - val_rpn_class_loss: 0.0555 - val_rpn_bbox_loss: 1.0350 - val_mrcnn_class_loss: 0.1018 - val_mrcnn_bbox_loss: 0.0941 - val_mrcnn_mask_loss: 1.0313\n",
            "Epoch 21/35\n",
            "100/100 [==============================] - 144s 1s/step - batch: 49.5000 - size: 4.0000 - loss: 0.0973 - rpn_class_loss: 7.1140e-04 - rpn_bbox_loss: 0.0139 - mrcnn_class_loss: 0.0047 - mrcnn_bbox_loss: 0.0114 - mrcnn_mask_loss: 0.0666 - val_loss: 1.9740 - val_rpn_class_loss: 0.0349 - val_rpn_bbox_loss: 0.7162 - val_mrcnn_class_loss: 0.0945 - val_mrcnn_bbox_loss: 0.0730 - val_mrcnn_mask_loss: 1.0554\n",
            "Epoch 22/35\n",
            "100/100 [==============================] - 145s 1s/step - batch: 49.5000 - size: 4.0000 - loss: 0.0886 - rpn_class_loss: 5.7140e-04 - rpn_bbox_loss: 0.0101 - mrcnn_class_loss: 0.0048 - mrcnn_bbox_loss: 0.0075 - mrcnn_mask_loss: 0.0657 - val_loss: 1.8503 - val_rpn_class_loss: 0.0320 - val_rpn_bbox_loss: 0.8333 - val_mrcnn_class_loss: 0.1091 - val_mrcnn_bbox_loss: 0.0932 - val_mrcnn_mask_loss: 0.7827\n",
            "Epoch 23/35\n",
            "100/100 [==============================] - 145s 1s/step - batch: 49.5000 - size: 4.0000 - loss: 0.0991 - rpn_class_loss: 0.0013 - rpn_bbox_loss: 0.0138 - mrcnn_class_loss: 0.0056 - mrcnn_bbox_loss: 0.0104 - mrcnn_mask_loss: 0.0680 - val_loss: 1.7880 - val_rpn_class_loss: 0.0305 - val_rpn_bbox_loss: 0.5648 - val_mrcnn_class_loss: 0.1181 - val_mrcnn_bbox_loss: 0.0891 - val_mrcnn_mask_loss: 0.9855\n",
            "Epoch 24/35\n",
            "100/100 [==============================] - 144s 1s/step - batch: 49.5000 - size: 4.0000 - loss: 0.0816 - rpn_class_loss: 7.8335e-04 - rpn_bbox_loss: 0.0080 - mrcnn_class_loss: 0.0029 - mrcnn_bbox_loss: 0.0068 - mrcnn_mask_loss: 0.0631 - val_loss: 1.5358 - val_rpn_class_loss: 0.0275 - val_rpn_bbox_loss: 0.4875 - val_mrcnn_class_loss: 0.1286 - val_mrcnn_bbox_loss: 0.1094 - val_mrcnn_mask_loss: 0.7829\n",
            "Epoch 25/35\n",
            "100/100 [==============================] - 144s 1s/step - batch: 49.5000 - size: 4.0000 - loss: 0.0856 - rpn_class_loss: 6.0707e-04 - rpn_bbox_loss: 0.0084 - mrcnn_class_loss: 0.0040 - mrcnn_bbox_loss: 0.0077 - mrcnn_mask_loss: 0.0650 - val_loss: 2.4056 - val_rpn_class_loss: 0.0637 - val_rpn_bbox_loss: 1.1718 - val_mrcnn_class_loss: 0.1173 - val_mrcnn_bbox_loss: 0.0918 - val_mrcnn_mask_loss: 0.9611\n",
            "Epoch 26/35\n",
            "100/100 [==============================] - 144s 1s/step - batch: 49.5000 - size: 4.0000 - loss: 0.0777 - rpn_class_loss: 5.3964e-04 - rpn_bbox_loss: 0.0073 - mrcnn_class_loss: 0.0034 - mrcnn_bbox_loss: 0.0054 - mrcnn_mask_loss: 0.0611 - val_loss: 1.8088 - val_rpn_class_loss: 0.0227 - val_rpn_bbox_loss: 0.6149 - val_mrcnn_class_loss: 0.1122 - val_mrcnn_bbox_loss: 0.0906 - val_mrcnn_mask_loss: 0.9683\n",
            "Epoch 27/35\n",
            "100/100 [==============================] - 144s 1s/step - batch: 49.5000 - size: 4.0000 - loss: 0.0725 - rpn_class_loss: 5.6481e-04 - rpn_bbox_loss: 0.0059 - mrcnn_class_loss: 0.0025 - mrcnn_bbox_loss: 0.0050 - mrcnn_mask_loss: 0.0586 - val_loss: 2.2750 - val_rpn_class_loss: 0.0386 - val_rpn_bbox_loss: 0.8822 - val_mrcnn_class_loss: 0.1242 - val_mrcnn_bbox_loss: 0.1063 - val_mrcnn_mask_loss: 1.1237\n",
            "Epoch 28/35\n",
            "100/100 [==============================] - 145s 1s/step - batch: 49.5000 - size: 4.0000 - loss: 0.0739 - rpn_class_loss: 5.4031e-04 - rpn_bbox_loss: 0.0061 - mrcnn_class_loss: 0.0019 - mrcnn_bbox_loss: 0.0053 - mrcnn_mask_loss: 0.0601 - val_loss: 2.3112 - val_rpn_class_loss: 0.0392 - val_rpn_bbox_loss: 0.9526 - val_mrcnn_class_loss: 0.1103 - val_mrcnn_bbox_loss: 0.0972 - val_mrcnn_mask_loss: 1.1119\n",
            "Epoch 29/35\n",
            "100/100 [==============================] - 144s 1s/step - batch: 49.5000 - size: 4.0000 - loss: 0.0738 - rpn_class_loss: 4.7054e-04 - rpn_bbox_loss: 0.0067 - mrcnn_class_loss: 0.0027 - mrcnn_bbox_loss: 0.0055 - mrcnn_mask_loss: 0.0584 - val_loss: 1.9979 - val_rpn_class_loss: 0.0333 - val_rpn_bbox_loss: 0.5721 - val_mrcnn_class_loss: 0.1251 - val_mrcnn_bbox_loss: 0.0939 - val_mrcnn_mask_loss: 1.1735\n",
            "Epoch 30/35\n",
            "100/100 [==============================] - 147s 1s/step - batch: 49.5000 - size: 4.0000 - loss: 0.0743 - rpn_class_loss: 6.2871e-04 - rpn_bbox_loss: 0.0069 - mrcnn_class_loss: 0.0026 - mrcnn_bbox_loss: 0.0063 - mrcnn_mask_loss: 0.0579 - val_loss: 2.1523 - val_rpn_class_loss: 0.0260 - val_rpn_bbox_loss: 0.6044 - val_mrcnn_class_loss: 0.1133 - val_mrcnn_bbox_loss: 0.0869 - val_mrcnn_mask_loss: 1.3217\n",
            "Epoch 31/35\n",
            "100/100 [==============================] - 145s 1s/step - batch: 49.5000 - size: 4.0000 - loss: 0.0707 - rpn_class_loss: 5.3265e-04 - rpn_bbox_loss: 0.0052 - mrcnn_class_loss: 0.0022 - mrcnn_bbox_loss: 0.0043 - mrcnn_mask_loss: 0.0585 - val_loss: 2.1132 - val_rpn_class_loss: 0.0327 - val_rpn_bbox_loss: 0.6389 - val_mrcnn_class_loss: 0.1476 - val_mrcnn_bbox_loss: 0.1104 - val_mrcnn_mask_loss: 1.1835\n",
            "Epoch 32/35\n",
            "100/100 [==============================] - 145s 1s/step - batch: 49.5000 - size: 4.0000 - loss: 0.0635 - rpn_class_loss: 6.4266e-04 - rpn_bbox_loss: 0.0047 - mrcnn_class_loss: 0.0016 - mrcnn_bbox_loss: 0.0046 - mrcnn_mask_loss: 0.0520 - val_loss: 1.4415 - val_rpn_class_loss: 0.0213 - val_rpn_bbox_loss: 0.3751 - val_mrcnn_class_loss: 0.1291 - val_mrcnn_bbox_loss: 0.0915 - val_mrcnn_mask_loss: 0.8244\n",
            "Epoch 33/35\n",
            "100/100 [==============================] - 145s 1s/step - batch: 49.5000 - size: 4.0000 - loss: 0.0692 - rpn_class_loss: 4.0824e-04 - rpn_bbox_loss: 0.0056 - mrcnn_class_loss: 0.0020 - mrcnn_bbox_loss: 0.0047 - mrcnn_mask_loss: 0.0566 - val_loss: 1.9594 - val_rpn_class_loss: 0.0415 - val_rpn_bbox_loss: 0.7928 - val_mrcnn_class_loss: 0.1122 - val_mrcnn_bbox_loss: 0.0943 - val_mrcnn_mask_loss: 0.9186\n",
            "Epoch 34/35\n",
            "100/100 [==============================] - 144s 1s/step - batch: 49.5000 - size: 4.0000 - loss: 0.0658 - rpn_class_loss: 4.1880e-04 - rpn_bbox_loss: 0.0052 - mrcnn_class_loss: 0.0019 - mrcnn_bbox_loss: 0.0045 - mrcnn_mask_loss: 0.0537 - val_loss: 1.8252 - val_rpn_class_loss: 0.0258 - val_rpn_bbox_loss: 0.4840 - val_mrcnn_class_loss: 0.1395 - val_mrcnn_bbox_loss: 0.1095 - val_mrcnn_mask_loss: 1.0664\n",
            "Epoch 35/35\n",
            "100/100 [==============================] - 145s 1s/step - batch: 49.5000 - size: 4.0000 - loss: 0.0627 - rpn_class_loss: 6.0045e-04 - rpn_bbox_loss: 0.0046 - mrcnn_class_loss: 0.0015 - mrcnn_bbox_loss: 0.0049 - mrcnn_mask_loss: 0.0511 - val_loss: 2.1088 - val_rpn_class_loss: 0.0395 - val_rpn_bbox_loss: 0.6468 - val_mrcnn_class_loss: 0.1586 - val_mrcnn_bbox_loss: 0.1085 - val_mrcnn_mask_loss: 1.1554\n"
          ]
        }
      ]
    },
    {
      "cell_type": "markdown",
      "source": [
        "##Evaluation"
      ],
      "metadata": {
        "id": "9yEQvR82WbjN"
      }
    },
    {
      "cell_type": "code",
      "source": [
        "import pixellib\n",
        "from pixellib.instance import custom_segmentation\n",
        "\n",
        "segment_image = custom_segmentation()\n",
        "segment_image.inferConfig(num_classes= 2, class_names= [\"BG\", \"daal\", \"rice\"])\n",
        "segment_image.load_model(\"/content/drive/MyDrive/DaalRicePolygon2/mask_rcnn_models/mask_rcnn_model.001-0.905262.h5\")\n"
      ],
      "metadata": {
        "colab": {
          "base_uri": "https://localhost:8080/"
        },
        "id": "tLQb_3gxWeqz",
        "outputId": "fb7c93c5-bfe7-4f17-f729-269d3ae829c2"
      },
      "execution_count": null,
      "outputs": [
        {
          "output_type": "stream",
          "name": "stderr",
          "text": [
            "WARNING:tensorflow:From /usr/local/lib/python3.7/dist-packages/tensorflow/python/util/deprecation.py:605: calling map_fn_v2 (from tensorflow.python.ops.map_fn) with dtype is deprecated and will be removed in a future version.\n",
            "Instructions for updating:\n",
            "Use fn_output_signature instead\n"
          ]
        }
      ]
    },
    {
      "cell_type": "code",
      "source": [
        "cd /content/drive/MyDrive/DaalRicePolygon2"
      ],
      "metadata": {
        "colab": {
          "base_uri": "https://localhost:8080/"
        },
        "id": "f7Vc1IejZoEm",
        "outputId": "b5014afd-5558-41a5-d42f-dd0bcadae54d"
      },
      "execution_count": null,
      "outputs": [
        {
          "output_type": "stream",
          "name": "stdout",
          "text": [
            "/content/drive/MyDrive/DaalRicePolygon2\n"
          ]
        }
      ]
    },
    {
      "cell_type": "code",
      "source": [
        "segment_image.segmentImage(\"/content/drive/MyDrive/Daal-Rice/Dataset/train/daalRice10.jpg\", output_image_name=\"/content/drive/MyDrive/DaalRicePolygon2/sample_out1.jpg\", show_bboxes=True)"
      ],
      "metadata": {
        "colab": {
          "base_uri": "https://localhost:8080/"
        },
        "id": "EqCh9HJWZDPd",
        "outputId": "c1ed4a2f-62b3-41aa-fe7d-dd85bd632478"
      },
      "execution_count": null,
      "outputs": [
        {
          "output_type": "stream",
          "name": "stdout",
          "text": [
            "Processed Image saved successfully in your current working directory.\n"
          ]
        },
        {
          "output_type": "execute_result",
          "data": {
            "text/plain": [
              "({'rois': array([[123, 323, 321, 496],\n",
              "         [ 98, 128, 329, 313]], dtype=int32),\n",
              "  'class_ids': array([1, 2], dtype=int32),\n",
              "  'scores': array([0.9698018, 0.927583 ], dtype=float32),\n",
              "  'masks': array([[[False, False],\n",
              "          [False, False],\n",
              "          [False, False],\n",
              "          ...,\n",
              "          [False, False],\n",
              "          [False, False],\n",
              "          [False, False]],\n",
              "  \n",
              "         [[False, False],\n",
              "          [False, False],\n",
              "          [False, False],\n",
              "          ...,\n",
              "          [False, False],\n",
              "          [False, False],\n",
              "          [False, False]],\n",
              "  \n",
              "         [[False, False],\n",
              "          [False, False],\n",
              "          [False, False],\n",
              "          ...,\n",
              "          [False, False],\n",
              "          [False, False],\n",
              "          [False, False]],\n",
              "  \n",
              "         ...,\n",
              "  \n",
              "         [[False, False],\n",
              "          [False, False],\n",
              "          [False, False],\n",
              "          ...,\n",
              "          [False, False],\n",
              "          [False, False],\n",
              "          [False, False]],\n",
              "  \n",
              "         [[False, False],\n",
              "          [False, False],\n",
              "          [False, False],\n",
              "          ...,\n",
              "          [False, False],\n",
              "          [False, False],\n",
              "          [False, False]],\n",
              "  \n",
              "         [[False, False],\n",
              "          [False, False],\n",
              "          [False, False],\n",
              "          ...,\n",
              "          [False, False],\n",
              "          [False, False],\n",
              "          [False, False]]])},\n",
              " array([[[245, 235, 235],\n",
              "         [245, 235, 235],\n",
              "         [245, 235, 235],\n",
              "         ...,\n",
              "         [246, 236, 236],\n",
              "         [246, 236, 236],\n",
              "         [246, 236, 236]],\n",
              " \n",
              "        [[245, 235, 235],\n",
              "         [245, 235, 235],\n",
              "         [245, 235, 235],\n",
              "         ...,\n",
              "         [246, 236, 236],\n",
              "         [246, 236, 236],\n",
              "         [246, 236, 236]],\n",
              " \n",
              "        [[245, 235, 235],\n",
              "         [245, 235, 235],\n",
              "         [245, 235, 235],\n",
              "         ...,\n",
              "         [246, 236, 236],\n",
              "         [246, 236, 236],\n",
              "         [246, 236, 236]],\n",
              " \n",
              "        ...,\n",
              " \n",
              "        [[240, 227, 229],\n",
              "         [240, 227, 229],\n",
              "         [240, 227, 229],\n",
              "         ...,\n",
              "         [236, 219, 222],\n",
              "         [235, 218, 221],\n",
              "         [235, 218, 221]],\n",
              " \n",
              "        [[240, 227, 229],\n",
              "         [240, 227, 229],\n",
              "         [240, 227, 229],\n",
              "         ...,\n",
              "         [236, 219, 222],\n",
              "         [235, 218, 221],\n",
              "         [235, 218, 221]],\n",
              " \n",
              "        [[240, 227, 229],\n",
              "         [240, 227, 229],\n",
              "         [240, 227, 229],\n",
              "         ...,\n",
              "         [236, 219, 222],\n",
              "         [235, 218, 221],\n",
              "         [235, 218, 221]]], dtype=uint8))"
            ]
          },
          "metadata": {},
          "execution_count": 6
        }
      ]
    },
    {
      "cell_type": "code",
      "source": [
        "segment_image.segmentImage(\"/content/drive/MyDrive/Food-Phone-Images/IMG_20220906_191538.jpg\", output_image_name = \"/content/drive/MyDrive/DaalRicePolygon2/sample_out.jpg\",  show_bboxes=True)"
      ],
      "metadata": {
        "colab": {
          "base_uri": "https://localhost:8080/"
        },
        "id": "Z2BdJELVZyZl",
        "outputId": "626fa0a6-5dba-4ee2-8631-de00a5eb94fc"
      },
      "execution_count": null,
      "outputs": [
        {
          "output_type": "stream",
          "name": "stdout",
          "text": [
            "Processed Image saved successfully in your current working directory.\n"
          ]
        },
        {
          "output_type": "execute_result",
          "data": {
            "text/plain": [
              "({'rois': array([[1366,  907, 3330, 2925]], dtype=int32),\n",
              "  'class_ids': array([2], dtype=int32),\n",
              "  'scores': array([0.9289374], dtype=float32),\n",
              "  'masks': array([[[False],\n",
              "          [False],\n",
              "          [False],\n",
              "          ...,\n",
              "          [False],\n",
              "          [False],\n",
              "          [False]],\n",
              "  \n",
              "         [[False],\n",
              "          [False],\n",
              "          [False],\n",
              "          ...,\n",
              "          [False],\n",
              "          [False],\n",
              "          [False]],\n",
              "  \n",
              "         [[False],\n",
              "          [False],\n",
              "          [False],\n",
              "          ...,\n",
              "          [False],\n",
              "          [False],\n",
              "          [False]],\n",
              "  \n",
              "         ...,\n",
              "  \n",
              "         [[False],\n",
              "          [False],\n",
              "          [False],\n",
              "          ...,\n",
              "          [False],\n",
              "          [False],\n",
              "          [False]],\n",
              "  \n",
              "         [[False],\n",
              "          [False],\n",
              "          [False],\n",
              "          ...,\n",
              "          [False],\n",
              "          [False],\n",
              "          [False]],\n",
              "  \n",
              "         [[False],\n",
              "          [False],\n",
              "          [False],\n",
              "          ...,\n",
              "          [False],\n",
              "          [False],\n",
              "          [False]]])},\n",
              " array([[[ 45,  39,  44],\n",
              "         [ 48,  42,  47],\n",
              "         [ 47,  43,  48],\n",
              "         ...,\n",
              "         [124, 135, 143],\n",
              "         [125, 136, 144],\n",
              "         [126, 137, 145]],\n",
              " \n",
              "        [[ 45,  39,  44],\n",
              "         [ 47,  41,  46],\n",
              "         [ 45,  41,  46],\n",
              "         ...,\n",
              "         [125, 136, 144],\n",
              "         [125, 136, 144],\n",
              "         [126, 137, 145]],\n",
              " \n",
              "        [[ 46,  40,  45],\n",
              "         [ 46,  40,  45],\n",
              "         [ 43,  39,  44],\n",
              "         ...,\n",
              "         [125, 136, 144],\n",
              "         [125, 136, 144],\n",
              "         [125, 136, 144]],\n",
              " \n",
              "        ...,\n",
              " \n",
              "        [[ 65,  64,  74],\n",
              "         [ 64,  63,  73],\n",
              "         [ 63,  62,  72],\n",
              "         ...,\n",
              "         [ 95,  85,  91],\n",
              "         [ 94,  84,  90],\n",
              "         [ 93,  83,  89]],\n",
              " \n",
              "        [[ 66,  62,  73],\n",
              "         [ 65,  61,  72],\n",
              "         [ 66,  62,  73],\n",
              "         ...,\n",
              "         [ 97,  85,  91],\n",
              "         [ 96,  84,  90],\n",
              "         [ 96,  84,  90]],\n",
              " \n",
              "        [[ 68,  64,  75],\n",
              "         [ 66,  62,  73],\n",
              "         [ 66,  62,  73],\n",
              "         ...,\n",
              "         [ 96,  84,  90],\n",
              "         [ 97,  85,  91],\n",
              "         [ 97,  85,  91]]], dtype=uint8))"
            ]
          },
          "metadata": {},
          "execution_count": 9
        }
      ]
    },
    {
      "cell_type": "code",
      "source": [
        "\n",
        "import matplotlib.pyplot as plt\n",
        "\n",
        "ys = [0.1433, \n",
        "0.0742 ,\n",
        "0.0600 ,\n",
        "0.0457 ,\n",
        "0.0400 ,\n",
        "0.0475 ,\n",
        "0.0425 ,\n",
        "0.0285 ,\n",
        "0.0201 ,\n",
        "0.0195 ,\n",
        "0.0154 ,\n",
        "0.0205 ,\n",
        "0.0125 ,\n",
        "0.0128 ,\n",
        "0.0152 ,\n",
        "0.0112 ,\n",
        "0.0082 ,\n",
        "0.0118 ,\n",
        "0.0098 ,\n",
        "0.0139 ,\n",
        "0.0101 ,\n",
        "0.0138 ,\n",
        "0.0080 ,\n",
        "0.0084 ,\n",
        "0.0073 ,\n",
        "0.0059 ,\n",
        "0.0061 ,\n",
        "0.0067 ,\n",
        "0.0069 ,\n",
        "0.0052 ,\n",
        "0.0047 ,\n",
        "0.0056 ,\n",
        "0.0052 ]\n",
        "xs = [x for x in range(len(ys))]\n",
        "\n",
        "plt.plot(xs, ys)\n",
        "plt.show()\n",
        "plt.close()"
      ],
      "metadata": {
        "colab": {
          "base_uri": "https://localhost:8080/",
          "height": 265
        },
        "id": "XFZxk47mMH4i",
        "outputId": "a2dfe0b2-3c3d-42ff-c60f-e79a07c3c6ae"
      },
      "execution_count": null,
      "outputs": [
        {
          "output_type": "display_data",
          "data": {
            "text/plain": [
              "<Figure size 432x288 with 1 Axes>"
            ],
            "image/png": "[encoded data removed]"
          },
          "metadata": {
            "needs_background": "light"
          }
        }
      ]
    },
    {
      "cell_type": "code",
      "source": [
        "ys=[0.6560, \n",
        "\n",
        "\n",
        " 0.2658 ,\n",
        "\n",
        "\n",
        " 0.2274 ,\n",
        "\n",
        "\n",
        " 0.2053 ,\n",
        "\n",
        "\n",
        " 0.1815 ,\n",
        "\n",
        "\n",
        " 0.1800 ,\n",
        "\n",
        "\n",
        " 0.1585 ,\n",
        "\n",
        "\n",
        " 0.1531 ,\n",
        "\n",
        "\n",
        " 0.1215 ,\n",
        "\n",
        "\n",
        " 0.1177 ,\n",
        "\n",
        "\n",
        " 0.1116 ,\n",
        "\n",
        "\n",
        " 0.1186 ,\n",
        "\n",
        "\n",
        " 0.0966 ,\n",
        "\n",
        "\n",
        " 0.0908 ,\n",
        "\n",
        "\n",
        " 0.1065 ,\n",
        "\n",
        "\n",
        " 0.1021 ,\n",
        "\n",
        "\n",
        " 0.0913 ,\n",
        "\n",
        "\n",
        " 0.0843 ,\n",
        "\n",
        "\n",
        " 0.0913 ,\n",
        "\n",
        "\n",
        " 0.0908 ,\n",
        "\n",
        "\n",
        " 0.0973 ,\n",
        "\n",
        "\n",
        " 0.0886 ,\n",
        "\n",
        "\n",
        " 0.0991 ,\n",
        "\n",
        "\n",
        " 0.0816 ,\n",
        "\n",
        "\n",
        " 0.0856 ,\n",
        "\n",
        "\n",
        " 0.0777 ,\n",
        "\n",
        "\n",
        " 0.0725 ,\n",
        "\n",
        "\n",
        " 0.0739 ,\n",
        "\n",
        "\n",
        " 0.0738 ,\n",
        "\n",
        "\n",
        " 0.0743 ,\n",
        "\n",
        "\n",
        " 0.0707 ,\n",
        "\n",
        "\n",
        " 0.0635 ,\n",
        "\n",
        "\n",
        " 0.0692 ,\n",
        "\n",
        "\n",
        " 0.0658 ,\n",
        "\n",
        "\n",
        " 0.0627 ]\n",
        "\n",
        "xs = [x for x in range(len(ys))]\n",
        "\n",
        "plt.plot(xs, ys)\n",
        "plt.show()\n",
        "plt.close()"
      ],
      "metadata": {
        "colab": {
          "base_uri": "https://localhost:8080/",
          "height": 265
        },
        "id": "D4GNTtWMPFhw",
        "outputId": "395bdcab-80d0-47d1-e8ca-ed4cdf56e8c4"
      },
      "execution_count": null,
      "outputs": [
        {
          "output_type": "display_data",
          "data": {
            "text/plain": [
              "<Figure size 432x288 with 1 Axes>"
            ],
            "image/png": "[encoded data removed]"
          },
          "metadata": {
            "needs_background": "light"
          }
        }
      ]
    },
    {
      "cell_type": "code",
      "source": [
        "ys=[0.8108,\n",
        "0.2048 ,\n",
        "0.1116 ,\n",
        "0.0956 ,\n",
        "0.0769 ,\n",
        "0.0747 ,\n",
        "0.0629 ,\n",
        "0.0579 ,\n",
        "0.0550 ,\n",
        "0.0508 ,\n",
        "0.0495 ,\n",
        "0.0457 ,\n",
        "0.0457 ,\n",
        "0.0445]\n",
        "xs = [x for x in range(len(ys))]\n",
        "\n",
        "plt.plot(xs, ys)\n",
        "plt.show()\n",
        "plt.close()"
      ],
      "metadata": {
        "colab": {
          "base_uri": "https://localhost:8080/",
          "height": 265
        },
        "id": "c265l5eoQ6UQ",
        "outputId": "25aadc31-2f23-45cb-8156-d354741b1066"
      },
      "execution_count": null,
      "outputs": [
        {
          "output_type": "display_data",
          "data": {
            "text/plain": [
              "<Figure size 432x288 with 1 Axes>"
            ],
            "image/png": "[encoded data removed]"
          },
          "metadata": {
            "needs_background": "light"
          }
        }
      ]
    }
  ]
}